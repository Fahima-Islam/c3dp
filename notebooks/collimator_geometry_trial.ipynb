{
 "cells": [
  {
   "cell_type": "code",
   "execution_count": 1,
   "metadata": {
    "collapsed": true
   },
   "outputs": [],
   "source": [
    "import os, sys\n",
    "from instrument.geometry.pml import weave\n",
    "from instrument.geometry import  operations"
   ]
  },
  {
   "cell_type": "code",
   "execution_count": 2,
   "metadata": {
    "collapsed": true
   },
   "outputs": [],
   "source": [
    "thisdir = os.path.abspath(os.path.dirname(\"__file__\"))\n",
    "libpath = os.path.join(thisdir, '../c3dp')\n",
    "if not libpath in sys.path:\n",
    "    sys.path.insert(0, libpath)"
   ]
  },
  {
   "cell_type": "code",
   "execution_count": 3,
   "metadata": {
    "collapsed": true
   },
   "outputs": [],
   "source": [
    "import SCADGen.Parser\n",
    "from create_collimator_geometry import Collimator_geom"
   ]
  },
  {
   "cell_type": "code",
   "execution_count": 4,
   "metadata": {
    "collapsed": true
   },
   "outputs": [],
   "source": [
    "scad_flag = True  ########CHANGE CAD FLAG HERE\n",
    "\n",
    "if scad_flag is True:\n",
    "    samplepath = os.path.join(thisdir, '../figures')\n",
    "else:\n",
    "    samplepath = os.path.join(thisdir, '../sample')"
   ]
  },
  {
   "cell_type": "code",
   "execution_count": 5,
   "metadata": {},
   "outputs": [],
   "source": [
    "for coll_length in [195.]: #100, 230,380\n",
    "\n",
    "\n",
    "    channel_length=195. #32, 17\n",
    "\n",
    "    min_channel_wall_thickness=1.\n",
    "\n",
    "    coll = Collimator_geom()\n",
    "    coll.set_constraints(max_coll_height_detector=120., max_coll_width_detector=120.,\n",
    "                        min_channel_wall_thickness=min_channel_wall_thickness,\n",
    "                        max_coll_length=coll_length, min_channel_size=3.,\n",
    "                        SNAP_acceptance_angle=False,\n",
    "                        collimator_front_end_from_center=20.)\n",
    "\n",
    "\n",
    "    coll.set_parameters(number_channels=3.,channel_length =channel_length)\n",
    "\n",
    "    filename = 'coll_geometry_{coll_length}_{coll_height}_{coll_width}_{channel_length}_{wall_thickness}.xml'.\\\n",
    "        format(coll_length=coll_length, coll_height=coll.max_coll_height_detector, coll_width=coll.max_coll_height_detector, channel_length=channel_length, wall_thickness=min_channel_wall_thickness)\n",
    "\n",
    "    outputfile = os.path.join(samplepath, filename)\n",
    "\n",
    "    borders=coll.generate_channels_border()\n",
    "    \n",
    "    coli = coll.gen_one_col(collimator_Nosupport=True)\n",
    "\n",
    "#     collimator=coll.gen_collimators_xml(multiple_collimator=False, scad_flag=scad_flag,detector_angles=[0], collimator_Nosupport=False, coll_file=outputfile)"
   ]
  },
  {
   "cell_type": "code",
   "execution_count": 6,
   "metadata": {},
   "outputs": [],
   "source": [
    "\n",
    "file='colli'\n",
    "filename='%s.xml'%(file)\n",
    "outputfile=os.path.join(samplepath, filename)\n",
    "with open (outputfile,'wt') as file_h:\n",
    "    weave(coli,file_h, print_docs = False)"
   ]
  },
  {
   "cell_type": "code",
   "execution_count": 7,
   "metadata": {},
   "outputs": [],
   "source": [
    "p = SCADGen.Parser.Parser(outputfile)\n",
    "p.createSCAD()\n",
    "test = p.rootelems[0]"
   ]
  },
  {
   "cell_type": "code",
   "execution_count": 8,
   "metadata": {
    "collapsed": true
   },
   "outputs": [],
   "source": [
    "cadFile_name='%s.scad'%(file)\n",
    "cad_file_path=os.path.abspath(os.path.join(samplepath, cadFile_name))"
   ]
  },
  {
   "cell_type": "code",
   "execution_count": 9,
   "metadata": {},
   "outputs": [
    {
     "data": {
      "text/plain": [
       "'/home/fi0/Collimator_3D/c3dp/figures/colli.scad'"
      ]
     },
     "execution_count": 9,
     "metadata": {},
     "output_type": "execute_result"
    }
   ],
   "source": [
    "cad_file_path"
   ]
  },
  {
   "cell_type": "code",
   "execution_count": 10,
   "metadata": {},
   "outputs": [
    {
     "name": "stdout",
     "output_type": "stream",
     "text": [
      "0x55a3e4f507b0 void QWindowPrivate::setTopLevelScreen(QScreen*, bool) ( QScreen(0x55a3e4cb5b70) ): Attempt to set a screen on a child window.\n",
      "0x55a3e4d363a0 void QWindowPrivate::setTopLevelScreen(QScreen*, bool) ( QScreen(0x55a3e4cb5b70) ): Attempt to set a screen on a child window.\n",
      "0x55a3e4cf9f30 void QWindowPrivate::setTopLevelScreen(QScreen*, bool) ( QScreen(0x55a3e4cb5b70) ): Attempt to set a screen on a child window.\n",
      "0x55a3e4d0ae50 void QWindowPrivate::setTopLevelScreen(QScreen*, bool) ( QScreen(0x55a3e4cb5b70) ): Attempt to set a screen on a child window.\n",
      "0x55a3e57bc170 void QWindowPrivate::setTopLevelScreen(QScreen*, bool) ( QScreen(0x55a3e4cb5b70) ): Attempt to set a screen on a child window.\n",
      "0x55a3e57bb930 void QWindowPrivate::setTopLevelScreen(QScreen*, bool) ( QScreen(0x55a3e4cb5b70) ): Attempt to set a screen on a child window.\n",
      "0x55a3e57bbef0 void QWindowPrivate::setTopLevelScreen(QScreen*, bool) ( QScreen(0x55a3e4cb5b70) ): Attempt to set a screen on a child window.\n",
      "0x55a3e57bc170 void QWindowPrivate::setTopLevelScreen(QScreen*, bool) ( QScreen(0x55a3e4cb5b70) ): Attempt to set a screen on a child window.\n"
     ]
    }
   ],
   "source": [
    "!vglrun openscad {cad_file_path}"
   ]
  },
  {
   "cell_type": "code",
   "execution_count": null,
   "metadata": {},
   "outputs": [],
   "source": []
  },
  {
   "cell_type": "code",
   "execution_count": null,
   "metadata": {
    "collapsed": true
   },
   "outputs": [],
   "source": []
  }
 ],
 "metadata": {
  "kernelspec": {
   "display_name": "mcvine",
   "language": "python",
   "name": "mcvine"
  },
  "language_info": {
   "codemirror_mode": {
    "name": "ipython",
    "version": 2
   },
   "file_extension": ".py",
   "mimetype": "text/x-python",
   "name": "python",
   "nbconvert_exporter": "python",
   "pygments_lexer": "ipython2",
   "version": "2.7.15"
  }
 },
 "nbformat": 4,
 "nbformat_minor": 2
}
