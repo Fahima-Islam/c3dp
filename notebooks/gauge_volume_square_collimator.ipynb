{
 "cells": [
  {
   "cell_type": "code",
   "execution_count": 1,
   "metadata": {
    "collapsed": true
   },
   "outputs": [],
   "source": [
    "import sys, os\n",
    "import numpy as np"
   ]
  },
  {
   "cell_type": "code",
   "execution_count": 2,
   "metadata": {
    "collapsed": true
   },
   "outputs": [],
   "source": [
    "thisdir = os.path.dirname('__file__')\n",
    "libpath = os.path.join(thisdir, '../c3dp')\n",
    "if not libpath in sys.path:\n",
    "    sys.path.insert(0, libpath)"
   ]
  },
  {
   "cell_type": "code",
   "execution_count": 3,
   "metadata": {
    "collapsed": true
   },
   "outputs": [],
   "source": [
    "import gauge_volume_allchannels as gv"
   ]
  },
  {
   "cell_type": "code",
   "execution_count": 4,
   "metadata": {
    "collapsed": true
   },
   "outputs": [],
   "source": [
    "sample_height=26. #mm\n",
    "sample_width=4.16 #mm\n",
    "\n",
    "arbitrary_height= sample_height+10.\n",
    "arbitrary_width=sample_width+10.\n",
    "\n",
    "number_of_channels=1\n",
    "collimator_openningSize_sample=3*number_of_channels #mm channel opening size\n",
    "collimator_inner_radius=16.02 #mm\n",
    "coll_length=380. #mm\n",
    "collimator_outer_radius=coll_length+collimator_inner_radius\n",
    "collimator_openningSize_detector=(collimator_outer_radius*collimator_openningSize_sample)/collimator_inner_radius\n",
    "\n",
    "pointsNum_z=200\n",
    "pointsNum_y=50\n",
    "stepsize=0.1\n",
    "# zS=np.linspace(-sample_height/2., sample_height/2., num=pointsNum_z) #sample_positions_z vertical\n",
    "# yS=np.linspace(-sample_width/2., sample_width/2., num=pointsNum_y) #sample_positions_y\n",
    "zS=np.arange(-arbitrary_height/2., arbitrary_height/2., stepsize) #sample_positions_z vertical\n",
    "yS=np.arange(-arbitrary_width/2., arbitrary_width/2., stepsize) #sample_positions_y\n",
    "# xS=np.linspace(-sample_width/2., sample_width/2., num=pointsNum) #sample_positions_x\n",
    "xS=0."
   ]
  },
  {
   "cell_type": "code",
   "execution_count": 5,
   "metadata": {},
   "outputs": [
    {
     "data": {
      "text/plain": [
       "(3, 142, 1, 360)"
      ]
     },
     "execution_count": 5,
     "metadata": {},
     "output_type": "execute_result"
    }
   ],
   "source": [
    "m=np.array(np.meshgrid(xS,yS,zS))\n",
    "m.shape"
   ]
  },
  {
   "cell_type": "code",
   "execution_count": 6,
   "metadata": {},
   "outputs": [
    {
     "data": {
      "text/plain": [
       "(142, 1, 360, 3)"
      ]
     },
     "execution_count": 6,
     "metadata": {},
     "output_type": "execute_result"
    }
   ],
   "source": [
    "m=m.transpose(1,2,3,0)\n",
    "m.shape"
   ]
  },
  {
   "cell_type": "code",
   "execution_count": 7,
   "metadata": {},
   "outputs": [
    {
     "data": {
      "text/plain": [
       "(51120, 3)"
      ]
     },
     "execution_count": 7,
     "metadata": {},
     "output_type": "execute_result"
    }
   ],
   "source": [
    "m.shape=-1,3\n",
    "m.shape"
   ]
  },
  {
   "cell_type": "code",
   "execution_count": 8,
   "metadata": {},
   "outputs": [],
   "source": [
    "offset_height=0.\n",
    "Cs_square = gv.make_square(collimator_inner_radius, collimator_openningSize_sample, offset_height)\n",
    "Cd_square = gv.make_square(collimator_outer_radius, collimator_openningSize_detector, offset_height)\n",
    "sample_points = m\n",
    "\n",
    "theta_phiS = gv.theta_phi(Cs_square, sample_points)\n",
    "theta_phiD = gv.theta_phi(Cd_square, sample_points)"
   ]
  },
  {
   "cell_type": "code",
   "execution_count": 9,
   "metadata": {},
   "outputs": [
    {
     "data": {
      "text/plain": [
       "(2, 51120)"
      ]
     },
     "execution_count": 9,
     "metadata": {},
     "output_type": "execute_result"
    }
   ],
   "source": [
    "Syz=sample_points[:,[1,2]].T\n",
    "Syz.shape"
   ]
  },
  {
   "cell_type": "code",
   "execution_count": 10,
   "metadata": {
    "collapsed": true
   },
   "outputs": [],
   "source": [
    "sample_pos, gauge_volume = gv.gauge_volume(theta_phiS, theta_phiD, Syz)"
   ]
  },
  {
   "cell_type": "code",
   "execution_count": 11,
   "metadata": {},
   "outputs": [
    {
     "data": {
      "image/png": "[encoded data removed]",
      "text/plain": [
       "<Figure size 432x288 with 2 Axes>"
      ]
     },
     "metadata": {},
     "output_type": "display_data"
    }
   ],
   "source": [
    "gv.making_plot(sample_pos, gauge_volume, arbitrary_height/2.,-arbitrary_height/2., sample_height, sample_width)"
   ]
  },
  {
   "cell_type": "code",
   "execution_count": 12,
   "metadata": {},
   "outputs": [
    {
     "data": {
      "text/plain": [
       "(2, 2646)"
      ]
     },
     "execution_count": 12,
     "metadata": {},
     "output_type": "execute_result"
    }
   ],
   "source": [
    "sample_pos.shape"
   ]
  },
  {
   "cell_type": "code",
   "execution_count": null,
   "metadata": {
    "collapsed": true
   },
   "outputs": [],
   "source": []
  }
 ],
 "metadata": {
  "kernelspec": {
   "display_name": "mcvine",
   "language": "python",
   "name": "mcvine"
  },
  "language_info": {
   "codemirror_mode": {
    "name": "ipython",
    "version": 2
   },
   "file_extension": ".py",
   "mimetype": "text/x-python",
   "name": "python",
   "nbconvert_exporter": "python",
   "pygments_lexer": "ipython2",
   "version": "2.7.15"
  }
 },
 "nbformat": 4,
 "nbformat_minor": 2
}
