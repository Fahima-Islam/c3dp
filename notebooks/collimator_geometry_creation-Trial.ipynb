{
 "cells": [
  {
   "cell_type": "code",
   "execution_count": 1,
   "metadata": {},
   "outputs": [
    {
     "name": "stdout",
     "output_type": "stream",
     "text": [
      "('maximum horizontal acceptance angle: ', 45.23972989608086)\n",
      "('maximum vertical acceptance angle: ', 45.23972989608086)\n",
      "('collimator front end from center ', 20.0)\n",
      "('horizontal number of blades: ', 2.0)\n",
      "('vertical number of blades: ', 2.0)\n",
      "('calculated channel height:', 5.0)\n"
     ]
    }
   ],
   "source": [
    "\n",
    "import os, sys\n",
    "import math\n",
    "from instrument.geometry.pml import weave\n",
    "from instrument.geometry import  operations\n",
    "\n",
    "parent_dir = os.path.abspath(os.pardir)\n",
    "libpath = os.path.join(parent_dir, 'c3dp_source')\n",
    "sample_path = os.path.join (parent_dir, 'sample')\n",
    "\n",
    "\n",
    "if not libpath in sys.path:\n",
    "    sys.path.insert(0, libpath)\n",
    "\n",
    "from collimator_zigzagBlade import Collimator_geom, Parameter_error\n",
    "import SCADGen.Parser\n",
    "\n",
    "coll_geo_file_name= 'coll_geometry'\n",
    "coll_geo_file = os.path.join(sample_path, coll_geo_file_name)\n",
    "\n",
    "max_coll_len = 180\n",
    "coll=Collimator_geom()\n",
    "coll.set_constraints(\n",
    "                     max_coll_height_detector=150.,\n",
    "                      max_coll_width_detector=60.,\n",
    "                      max_coll_length = max_coll_len,\n",
    "                      min_channel_wall_thickness=1.,\n",
    "                      min_channel_size=3.,\n",
    "                      vertical_odd_blades=False, horizontal_even_blades=False,\n",
    "                      left_border_odds=False,\n",
    "                      collimator_parts=False)\n",
    "\n",
    "\n",
    "\n",
    "coll.set_parameters( channel_length=160., collimator_front_end_from_center=54.,  \n",
    "                    channel_height=5., channel_width=5., blade_height=6., blade_width=6.)\n",
    "\n",
    "print ('horizontal number of blades: ', math.ceil(coll.horizontalNumberBlades()))\n",
    "print ('vertical number of blades: ', math.ceil(coll.verticalNumberBlades()))\n",
    "print ('calculated channel height:', coll.calculated_channel_height)\n",
    "\n",
    "coli = coll.gen_one_col(collimator_Nosupport=True)"
   ]
  },
  {
   "cell_type": "code",
   "execution_count": 2,
   "metadata": {},
   "outputs": [],
   "source": [
    "scad_flag = True  ########CHANGE CAD FLAG HERE\n",
    "\n",
    "if scad_flag is True:\n",
    "    samplepath = os.path.join(parent_dir, 'figures')\n",
    "else:\n",
    "    samplepath = os.path.join(parent_dir, 'sample')"
   ]
  },
  {
   "cell_type": "code",
   "execution_count": 3,
   "metadata": {},
   "outputs": [],
   "source": [
    "\n",
    "# both= truss\n",
    "# both=supports\n",
    "file='colli_test'\n",
    "filename='%s.xml'%(file)\n",
    "outputfile=os.path.join(samplepath, filename)\n",
    "with open (outputfile,'wt') as file_h:\n",
    "    weave(coli,file_h, print_docs = False)\n"
   ]
  },
  {
   "cell_type": "code",
   "execution_count": 4,
   "metadata": {},
   "outputs": [],
   "source": [
    "p = SCADGen.Parser.Parser(outputfile)\n",
    "p.createSCAD()\n",
    "test = p.rootelems[0]"
   ]
  },
  {
   "cell_type": "code",
   "execution_count": 5,
   "metadata": {},
   "outputs": [],
   "source": [
    "cadFile_name='%s.scad'%(file)\n",
    "cad_file_path=os.path.abspath(os.path.join(samplepath, cadFile_name))"
   ]
  },
  {
   "cell_type": "code",
   "execution_count": 6,
   "metadata": {},
   "outputs": [
    {
     "data": {
      "text/plain": [
       "'/home/fi0/Collimator_3D/c3dp/figures/colli_test.scad'"
      ]
     },
     "execution_count": 6,
     "metadata": {},
     "output_type": "execute_result"
    }
   ],
   "source": [
    "cad_file_path"
   ]
  },
  {
   "cell_type": "code",
   "execution_count": 7,
   "metadata": {
    "collapsed": true
   },
   "outputs": [],
   "source": [
    "!vglrun openscad {cad_file_path}"
   ]
  },
  {
   "cell_type": "code",
   "execution_count": null,
   "metadata": {
    "collapsed": true
   },
   "outputs": [],
   "source": []
  },
  {
   "cell_type": "code",
   "execution_count": null,
   "metadata": {},
   "outputs": [],
   "source": []
  },
  {
   "cell_type": "code",
   "execution_count": null,
   "metadata": {
    "collapsed": true
   },
   "outputs": [],
   "source": []
  },
  {
   "cell_type": "code",
   "execution_count": null,
   "metadata": {
    "collapsed": true
   },
   "outputs": [],
   "source": []
  },
  {
   "cell_type": "code",
   "execution_count": null,
   "metadata": {
    "collapsed": true
   },
   "outputs": [],
   "source": []
  }
 ],
 "metadata": {
  "kernelspec": {
   "display_name": "mcvine",
   "language": "python",
   "name": "mcvine"
  },
  "language_info": {
   "codemirror_mode": {
    "name": "ipython",
    "version": 2
   },
   "file_extension": ".py",
   "mimetype": "text/x-python",
   "name": "python",
   "nbconvert_exporter": "python",
   "pygments_lexer": "ipython2",
   "version": "2.7.15"
  }
 },
 "nbformat": 4,
 "nbformat_minor": 2
}
