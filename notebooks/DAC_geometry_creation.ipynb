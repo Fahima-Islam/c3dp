{
 "cells": [
  {
   "cell_type": "code",
   "execution_count": 1,
   "metadata": {
    "collapsed": true
   },
   "outputs": [],
   "source": [
    "import os, sys\n",
    "# import mcvine modules\n",
    "from instrument.geometry.pml import weave\n",
    "from instrument.geometry import  operations\n",
    "from instrument.geometry.pml.Renderer import Renderer as base"
   ]
  },
  {
   "cell_type": "code",
   "execution_count": 2,
   "metadata": {
    "collapsed": true
   },
   "outputs": [],
   "source": [
    "parent_dir = os.path.abspath(os.pardir)\n",
    "libpath = os.path.join(parent_dir, 'c3dp_source')\n",
    "\n",
    "if not libpath in sys.path:\n",
    "    sys.path.insert(0, libpath)"
   ]
  },
  {
   "cell_type": "code",
   "execution_count": 3,
   "metadata": {
    "collapsed": true
   },
   "outputs": [],
   "source": [
    "import SCADGen.Parser\n",
    "from create_collimator_geometry import Collimator_geom\n",
    "from DAC_geo import DAC # for simulation\n",
    "from DAC_geo_visualization import DAC"
   ]
  },
  {
   "cell_type": "code",
   "execution_count": 4,
   "metadata": {
    "collapsed": true
   },
   "outputs": [],
   "source": [
    "class File_inc_Renderer(base):\n",
    "    def _renderDocument(self, body):\n",
    "        self.onGeometry(body)\n",
    "        return\n",
    "    def header(self):\n",
    "        return []\n",
    "    def footer(self):\n",
    "        return []\n",
    "    def end(self):\n",
    "        return"
   ]
  },
  {
   "cell_type": "code",
   "execution_count": 5,
   "metadata": {},
   "outputs": [
    {
     "name": "stdout",
     "output_type": "stream",
     "text": [
      "('pavilion from center', 1.1503684072210096)\n",
      "('pavilion from center', 1.1503684072210096)\n",
      "('pavilion from center', 1.1503684072210096)\n",
      "('chamfer_top_length', 18.639999999999997)\n",
      "('chamfer_top_length', 18.639999999999997)\n",
      "('chamfer_top_length', 18.639999999999997)\n",
      "('chamfer_top_length', 18.639999999999997)\n",
      "('top triangle height', 2.875921018052524)\n"
     ]
    }
   ],
   "source": [
    "dac=DAC()\n",
    "anvil=dac.anvil()\n",
    "\n",
    "# gasket=dac.gasket()\n",
    "# gasket_holder=dac.gasket_holder()\n",
    "sorrounding_gasket=dac.sorrounding_gasket()\n",
    "gasket_at_sample = dac.gasket_contact_with_sample()\n",
    "gasket_at_anvil = dac.gasket_contact_with_anvil()\n",
    "snap_seat=dac.snap_seat()\n",
    "vision_seat = dac.vision_seat()\n",
    "snap_piston=dac.snap_piston()\n",
    "vision_piston = dac.vision_piston()\n",
    "snap_seat_pistion=dac.snap_seat_piston()\n",
    "vision_seat_pistion=dac.vision_seat_piston()\n",
    "bar=dac.body_bar()\n",
    "sample=dac.sample()\n",
    "print ('top triangle height', dac.crown_top_triangle_height()*2)\n",
    "# print (dac.upper_orLower_anvil_height_from_center())"
   ]
  },
  {
   "cell_type": "code",
   "execution_count": 6,
   "metadata": {
    "collapsed": true
   },
   "outputs": [],
   "source": [
    "scad_flag = True  ########CHANGE CAD FLAG HERE\n",
    "\n",
    "if scad_flag is True:\n",
    "    samplepath = os.path.join(parent_dir, 'figures')\n",
    "else:\n",
    "    samplepath = os.path.join(parent_dir, 'sample')"
   ]
  },
  {
   "cell_type": "code",
   "execution_count": 7,
   "metadata": {},
   "outputs": [
    {
     "data": {
      "text/plain": [
       "5.001473628884039"
      ]
     },
     "execution_count": 7,
     "metadata": {},
     "output_type": "execute_result"
    }
   ],
   "source": [
    "dac.gasket_height()"
   ]
  },
  {
   "cell_type": "code",
   "execution_count": 14,
   "metadata": {
    "collapsed": true
   },
   "outputs": [],
   "source": [
    "# both=operations.unite(operations.unite(operations.unite(operations.unite(anvil,gasket),\n",
    "#                     gasket_holder), seat_pistion), bar)\n",
    "\n",
    "# both=operations.unite(operations.unite(operations.unite(operations.unite(anvil,sorrounding_gasket),\n",
    "#                     seat_pistion), bar),sample)\n",
    "both=operations.unite (operations.unite(operations.unite(operations.unite(anvil,gasket_at_anvil),gasket_at_sample),\n",
    "                    vision_seat_pistion), sample)\n",
    "\n",
    "full_gasket= operations.unite(gasket_at_anvil, gasket_at_sample)\n",
    "fullgasket_anvil = operations.unite(full_gasket, anvil)\n",
    "\n",
    "gasket_anvil =operations.unite(gasket_at_anvil, anvil)\n",
    "\n",
    "gasket_sample = operations.unite(full_gasket, sample)\n",
    "anvil_sample=operations.unite(anvil,sample)\n",
    "                  \n",
    "# both=operations.unite(anvil,sorrounding_gasket)\n",
    "\n",
    "# both= operations.rotate (both, transversal=1, angle='%s *degree' %(90))\n",
    "# both= truss\n",
    "# both=supports\n",
    "file='dac'#change the name of the file\n",
    "filename='%s.xml'%(file,)\n",
    "outputfile=os.path.join(samplepath, filename)\n",
    "with open (outputfile,'wt') as file_h:\n",
    "    if scad_flag:\n",
    "        weave(both,file_h,print_docs = False)\n",
    "    else:\n",
    "        weave(both,file_h,print_docs = False,renderer=File_inc_Renderer(), author='')"
   ]
  },
  {
   "cell_type": "code",
   "execution_count": 15,
   "metadata": {
    "collapsed": true
   },
   "outputs": [],
   "source": [
    "# cat {outputfile}"
   ]
  },
  {
   "cell_type": "code",
   "execution_count": 16,
   "metadata": {
    "collapsed": true
   },
   "outputs": [],
   "source": [
    "p = SCADGen.Parser.Parser(outputfile)\n",
    "p.createSCAD()\n",
    "test = p.rootelems[0]"
   ]
  },
  {
   "cell_type": "code",
   "execution_count": 17,
   "metadata": {
    "collapsed": true
   },
   "outputs": [],
   "source": [
    "#cat /home/fi0/Collimator_3D/c3dp/notebooks/../figures/anvil.scad"
   ]
  },
  {
   "cell_type": "code",
   "execution_count": 18,
   "metadata": {
    "collapsed": true
   },
   "outputs": [],
   "source": [
    "cadFile_name='%s.scad'%(file)\n",
    "cad_file_path=os.path.abspath(os.path.join(samplepath, cadFile_name))"
   ]
  },
  {
   "cell_type": "code",
   "execution_count": null,
   "metadata": {},
   "outputs": [
    {
     "name": "stdout",
     "output_type": "stream",
     "text": [
      "0x5598d40b6850 void QWindowPrivate::setTopLevelScreen(QScreen*, bool) ( QScreen(0x5598d3e1bb70) ): Attempt to set a screen on a child window.\n",
      "0x5598d3e91930 void QWindowPrivate::setTopLevelScreen(QScreen*, bool) ( QScreen(0x5598d3e1bb70) ): Attempt to set a screen on a child window.\n",
      "0x5598d3e75aa0 void QWindowPrivate::setTopLevelScreen(QScreen*, bool) ( QScreen(0x5598d3e1bb70) ): Attempt to set a screen on a child window.\n",
      "0x5598d3e6cab0 void QWindowPrivate::setTopLevelScreen(QScreen*, bool) ( QScreen(0x5598d3e1bb70) ): Attempt to set a screen on a child window.\n",
      "0x5598d4921af0 void QWindowPrivate::setTopLevelScreen(QScreen*, bool) ( QScreen(0x5598d3e1bb70) ): Attempt to set a screen on a child window.\n",
      "0x5598d491f210 void QWindowPrivate::setTopLevelScreen(QScreen*, bool) ( QScreen(0x5598d3e1bb70) ): Attempt to set a screen on a child window.\n",
      "0x5598d4921830 void QWindowPrivate::setTopLevelScreen(QScreen*, bool) ( QScreen(0x5598d3e1bb70) ): Attempt to set a screen on a child window.\n",
      "0x5598d4921af0 void QWindowPrivate::setTopLevelScreen(QScreen*, bool) ( QScreen(0x5598d3e1bb70) ): Attempt to set a screen on a child window.\n"
     ]
    }
   ],
   "source": [
    "!vglrun openscad {cad_file_path}"
   ]
  },
  {
   "cell_type": "code",
   "execution_count": null,
   "metadata": {
    "collapsed": true
   },
   "outputs": [],
   "source": []
  },
  {
   "cell_type": "code",
   "execution_count": null,
   "metadata": {
    "collapsed": true
   },
   "outputs": [],
   "source": []
  },
  {
   "cell_type": "code",
   "execution_count": null,
   "metadata": {
    "collapsed": true
   },
   "outputs": [],
   "source": []
  }
 ],
 "metadata": {
  "kernelspec": {
   "display_name": "mcvine",
   "language": "python",
   "name": "mcvine"
  },
  "language_info": {
   "codemirror_mode": {
    "name": "ipython",
    "version": 2
   },
   "file_extension": ".py",
   "mimetype": "text/x-python",
   "name": "python",
   "nbconvert_exporter": "python",
   "pygments_lexer": "ipython2",
   "version": "2.7.15"
  }
 },
 "nbformat": 4,
 "nbformat_minor": 2
}
