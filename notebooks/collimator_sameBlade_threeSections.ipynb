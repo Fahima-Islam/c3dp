{
 "cells": [
  {
   "cell_type": "code",
   "execution_count": 1,
   "metadata": {
    "collapsed": true
   },
   "outputs": [],
   "source": [
    "import mcvine \n",
    "from instrument.geometry.pml import weave\n",
    "from instrument.geometry import  operations\n",
    "import math"
   ]
  },
  {
   "cell_type": "code",
   "execution_count": 2,
   "metadata": {
    "collapsed": true
   },
   "outputs": [],
   "source": [
    "import os, sys\n",
    "parent_dir = os.path.abspath(os.pardir)\n",
    "libpath = os.path.join(parent_dir, 'c3dp_source')\n",
    "figures_path = os.path.join (parent_dir, 'figures')\n",
    "sample_path = os.path.join (parent_dir, 'sample')\n",
    "if not libpath in sys.path:\n",
    "    sys.path.insert(0, libpath)\n",
    "# sys.path.insert(0, '/home/fi0/python3/lib/python3.5/site-packages')"
   ]
  },
  {
   "cell_type": "code",
   "execution_count": 3,
   "metadata": {
    "collapsed": true
   },
   "outputs": [],
   "source": [
    "import SCADGen.Parser\n",
    "from collimator_zigzagBlade import Collimator_geom\n",
    "# import viewscad\n",
    "# import solid"
   ]
  },
  {
   "cell_type": "code",
   "execution_count": 4,
   "metadata": {
    "collapsed": true
   },
   "outputs": [],
   "source": [
    "scad_flag = True  ########CHANGE CAD FLAG HERE\n",
    "\n",
    "if scad_flag is True:\n",
    "    savepath = figures_path\n",
    "else:\n",
    "    savepath = sample_path"
   ]
  },
  {
   "cell_type": "code",
   "execution_count": 5,
   "metadata": {
    "collapsed": true
   },
   "outputs": [],
   "source": [
    "colimator_front_end_from_center= 52. #though the cell diameter is 3 mm, I can not put the collimator at 3 mm because\n",
    "                                   #if I put at 3 mm, there will be no blade (only full of channels as the minimum\n",
    "                                   # channel thickness is 3 mm) \n",
    "length_of_each_part=60."
   ]
  },
  {
   "cell_type": "code",
   "execution_count": 59,
   "metadata": {},
   "outputs": [
    {
     "name": "stdout",
     "output_type": "stream",
     "text": [
      "('last collimator front end from center', 172.0)\n",
      "('last collimator back end from center', 232.0)\n"
     ]
    }
   ],
   "source": [
    "########################### LAST PART COMPONENTS ##############################\n",
    "coll1_length=length_of_each_part\n",
    "channel1_length=length_of_each_part\n",
    "min_channel_wall_thickness=1.\n",
    "coll1_height_detector=142.857 #150.\n",
    "coll1_width_detector=60.\n",
    "coll1_front_end_from_center=colimator_front_end_from_center+(2.*length_of_each_part)\n",
    "print ('last collimator front end from center', coll1_front_end_from_center)\n",
    "coll1_length_fr_center=coll1_front_end_from_center+coll1_length\n",
    "print ('last collimator back end from center', coll1_length_fr_center)"
   ]
  },
  {
   "cell_type": "code",
   "execution_count": 61,
   "metadata": {},
   "outputs": [
    {
     "name": "stdout",
     "output_type": "stream",
     "text": [
      "('inner radius', 52.0)\n",
      "('outer radius', 112.0)\n",
      "('minimum channel gap at big end', 6.461538461538462)\n",
      "('height detector', 68.96544827586207)\n",
      "('width detector', 28.965517241379313)\n",
      "('horizontal acceptance angle', 14.736102143244361)\n",
      "('vertical acceptance angle', 34.22525810364719)\n",
      "('vertical #channels', 20.0)\n",
      "('horizontal # channels', 8.0)\n",
      "('vertical channel angle :', 1.7112629051823596)\n",
      "('horizontal channel angle :', 1.8420127679055451)\n"
     ]
    }
   ],
   "source": [
    "########################### FIRST PART ##############################\n",
    "coll3_length=length_of_each_part\n",
    "channel3_length=length_of_each_part\n",
    "coll3_inner_radius=colimator_front_end_from_center+(0.*length_of_each_part)\n",
    "print ('inner radius',coll3_inner_radius)\n",
    "coll3_outer_radius=coll3_length+coll3_inner_radius\n",
    "print ('outer radius', coll3_outer_radius)\n",
    "\n",
    "minimum_channel_size = 3.\n",
    "coll3_channel_gap_at_detector =  (minimum_channel_size/coll3_inner_radius)*coll3_outer_radius\n",
    "\n",
    "print ('minimum channel gap at big end', coll3_channel_gap_at_detector)\n",
    "\n",
    "\n",
    "coll3_height_detector=(coll1_height_detector/coll1_length_fr_center)*coll3_outer_radius\n",
    "print ('height detector', coll3_height_detector)\n",
    "coll3_width_detector=(coll1_width_detector/coll1_length_fr_center)*coll3_outer_radius #half part\n",
    "# coll3_width_detector=(coll1_width_detector/coll1_length_fr_center)*coll3_outer_radius*2 #full part\n",
    "print ('width detector', coll3_width_detector)\n",
    "\n",
    "vertical_odd_blades= True\n",
    "horizontal_odd_blades =True\n",
    "coll3 = Collimator_geom()\n",
    "coll3.set_constraints(max_coll_height_detector=coll3_height_detector, \n",
    "                      max_coll_width_detector=coll3_width_detector,\n",
    "                      min_channel_wall_thickness=min_channel_wall_thickness,\n",
    "                      max_coll_length=coll3_length, \n",
    "                      min_channel_size=1.5,\n",
    "                      collimator_front_end_from_center=coll3_inner_radius,\n",
    "#                       remove_vertical_blades_manually =True, #only full part\n",
    "#                       vertical_blade_index_list_toRemove = [7],#only full part\n",
    "#                       remove_horizontal_blades_manually = True, #only full part\n",
    "#                       horizontal_blade_index_list_toRemove = [9], #only full part\n",
    "                      collimator_parts=False,\n",
    "                      no_right_border= True,\n",
    "                      horizontal_odd_blades = True,\n",
    "                      vertical_odd_blades = True,\n",
    "                       )\n",
    "\n",
    "\n",
    "coll3_R = Collimator_geom()\n",
    "coll3_R.set_constraints(max_coll_height_detector=coll3_height_detector, \n",
    "                      max_coll_width_detector=coll3_width_detector,\n",
    "                      min_channel_wall_thickness=min_channel_wall_thickness,\n",
    "                      max_coll_length=coll3_length, \n",
    "                      min_channel_size=1.5,\n",
    "                      collimator_front_end_from_center=coll3_inner_radius,\n",
    "#                       remove_vertical_blades_manually =True, #only full part\n",
    "#                       vertical_blade_index_list_toRemove = [2],#only full part\n",
    "#                       remove_horizontal_blades_manually = True, #only full part\n",
    "#                       horizontal_blade_index_list_toRemove = [9], #only full part\n",
    "                      horizontal_odd_blades = True,\n",
    "                      vertical_odd_blades = True,\n",
    "                      collimator_parts=False,\n",
    "                      no_right_border= False\n",
    "                       )\n",
    "\n",
    "print ('horizontal acceptance angle', coll3.horizontal_acceptance_angle)\n",
    "print ('vertical acceptance angle' , coll3.vertical_acceptance_angle)\n",
    "\n",
    "fist_vertical_number_blades = math.floor (coll3.Vertical_number_channels(channel3_length))\n",
    "fist_horizontal_number_blades = math.floor(coll3.Horizontal_number_channels(channel3_length))\n",
    "\n",
    "print ('vertical #channels' , fist_vertical_number_blades)\n",
    "print ('horizontal # channels' , fist_horizontal_number_blades)\n",
    "\n",
    "# if vertical_odd_blades:\n",
    "#     if fist_vertical_number_blades %2 != 0:\n",
    "#         fist_vertical_number_blades-= 1\n",
    "\n",
    "# else:\n",
    "#     if fist_vertical_number_blades %2 ==0:\n",
    "#         fist_vertical_number_blades-=1\n",
    "        \n",
    "# if horizontal_odd_blades:\n",
    "#     if fist_horizontal_number_blades %2 != 0:\n",
    "#         fist_horizontal_number_blades-= 1\n",
    "\n",
    "# else:\n",
    "#     if fist_horizontal_number_blades %2 ==0:\n",
    "#         fist_horizontal_number_blades-=1\n",
    "        \n",
    "\n",
    "# coll3.set_parameters(vertical_number_channels=28,horizontal_number_channels=11*2,\n",
    "#                     channel_length =channel3_length)  # the full first part\n",
    "# coll3_R.set_parameters(vertical_number_channels=28,horizontal_number_channels=11*2\n",
    "#                          ,channel_length =channel3_length)\n",
    "\n",
    "coll3.set_parameters(vertical_number_channels=fist_vertical_number_blades,horizontal_number_channels=fist_horizontal_number_blades,\n",
    "                     channel_length =channel3_length)\n",
    "coll3_R.set_parameters(vertical_number_channels=fist_vertical_number_blades,horizontal_number_channels=fist_horizontal_number_blades,\n",
    "                       channel_length =channel3_length)\n",
    "\n",
    "print ('vertical channel angle :' ,coll3.vertical_channel_angle)\n",
    "print ('horizontal channel angle :' ,coll3.horizontal_channel_angle)\n",
    "\n",
    "col_first = coll3.gen_one_col(collimator_Nosupport=True)\n",
    "coli_first_right = coll3_R.gen_collimators(detector_angles=[-(90+50)],multiple_collimator=False, collimator_Nosupport=True)\n",
    "# coli_first_right = coll3_R.gen_collimators(detector_angles=[180.+ 12],multiple_collimator=False, collimator_Nosupport=True)"
   ]
  },
  {
   "cell_type": "code",
   "execution_count": 64,
   "metadata": {},
   "outputs": [
    {
     "name": "stdout",
     "output_type": "stream",
     "text": [
      "('inner radius', 112.0)\n",
      "('outer radius', 172.0)\n",
      "('minimum channel gap at big end', 4.607142857142857)\n",
      "('collimator height at detector', 105.91122413793103)\n",
      "('coll2_width_detector', 44.48275862068966)\n",
      "('channel index to remove', 2)\n",
      "('vertical # chanels', 44.602310283571676)\n",
      "('horizontal # channels', 19.204068474018303)\n",
      "('vertical channel angle :', 1.7112629051823596)\n",
      "('horizontal channel angle :', 1.8420127679055451)\n"
     ]
    }
   ],
   "source": [
    "########################## MIDDLE PART #########################################\n",
    "\n",
    "coll2_length=length_of_each_part\n",
    "channel2_length=length_of_each_part\n",
    "coll2_inner_radius=colimator_front_end_from_center+(1.*length_of_each_part)\n",
    "print ('inner radius', coll2_inner_radius)\n",
    "coll2_outer_radius=coll2_length+coll2_inner_radius\n",
    "print ('outer radius', coll2_outer_radius)\n",
    "\n",
    "coll2_channel_gap_at_detector =  (minimum_channel_size/coll2_inner_radius)*coll2_outer_radius\n",
    "\n",
    "print ('minimum channel gap at big end', coll2_channel_gap_at_detector)\n",
    "\n",
    "coll2_height_detector=(coll1_height_detector/coll1_length_fr_center)*coll2_outer_radius\n",
    "print ('collimator height at detector', coll2_height_detector)\n",
    "coll2_width_detector=(coll1_width_detector/coll1_length_fr_center)*coll2_outer_radius\n",
    "print ('coll2_width_detector', coll2_width_detector)\n",
    "\n",
    "coll2_channel_index_to_remove = int (coll3_channel_gap_at_detector/minimum_channel_size)\n",
    "print ('channel index to remove' ,coll2_channel_index_to_remove)\n",
    "\n",
    "coll2 = Collimator_geom()\n",
    "coll2.set_constraints(max_coll_height_detector=coll2_height_detector, \n",
    "                      max_coll_width_detector=coll2_width_detector,\n",
    "                      min_channel_wall_thickness=min_channel_wall_thickness,\n",
    "                      max_coll_length=coll2_length, \n",
    "                      min_channel_size=1.5,\n",
    "                      collimator_front_end_from_center=coll2_inner_radius,\n",
    "                      collimator_parts=True,\n",
    "                      initial_collimator_horizontal_channel_angle=0.0,\n",
    "                      initial_collimator_vertical_channel_angle= 0.0,\n",
    "#                       remove_vertical_blades_manually =True,\n",
    "#                       vertical_blade_index_list_toRemove = [0,3],\n",
    "#                       remove_horizontal_blades_manually =True,\n",
    "#                       horizontal_blade_index_list_toRemove = [0],\n",
    "                      no_right_border= True,\n",
    "                      vertical_even_blades= True,\n",
    "                      horizontal_even_blades=True) \n",
    "\n",
    "coll2_R = Collimator_geom()\n",
    "coll2_R.set_constraints(max_coll_height_detector=coll2_height_detector, \n",
    "                      max_coll_width_detector=coll2_width_detector,\n",
    "                      min_channel_wall_thickness=min_channel_wall_thickness,\n",
    "                      max_coll_length=coll2_length, \n",
    "                      min_channel_size=1.5,\n",
    "                      collimator_front_end_from_center=coll2_inner_radius,\n",
    "                      collimator_parts=True,\n",
    "                      initial_collimator_horizontal_channel_angle=0.0,\n",
    "                      initial_collimator_vertical_channel_angle= 0.0,\n",
    "#                       remove_vertical_blades_manually =True,\n",
    "#                       vertical_blade_index_list_toRemove = [0,3],\n",
    "#                       remove_horizontal_blades_manually =True,\n",
    "#                       horizontal_blade_index_list_toRemove = [0],\n",
    "                      no_right_border= False,\n",
    "                      vertical_even_blades= True,\n",
    "                      horizontal_even_blades=True)\n",
    "\n",
    "\n",
    "\n",
    "print ('vertical # chanels', coll2.Vertical_number_channels(channel2_length))\n",
    "print ('horizontal # channels', coll2.Horizontal_number_channels(channel2_length))\n",
    "\n",
    "\n",
    "coll2.set_parameters(vertical_number_channels=fist_vertical_number_blades,horizontal_number_channels=fist_horizontal_number_blades, \n",
    "                     channel_length =channel2_length)\n",
    "coll2_R.set_parameters(vertical_number_channels=fist_vertical_number_blades, horizontal_number_channels=fist_horizontal_number_blades, \n",
    "                       channel_length =channel2_length)\n",
    "\n",
    "\n",
    "print ('vertical channel angle :' ,coll2.vertical_channel_angle)\n",
    "print ('horizontal channel angle :' ,coll2.horizontal_channel_angle)\n",
    "\n",
    "coli_middle_left = coll2.gen_one_col(collimator_Nosupport=True)\n",
    "coli_middle_right = coll2_R.gen_collimators(detector_angles=[-(90+50)],multiple_collimator=False, collimator_Nosupport=True)\n",
    "\n",
    "\n",
    "# print (coll1_height_detector/coll2_height_detector)"
   ]
  },
  {
   "cell_type": "code",
   "execution_count": 65,
   "metadata": {},
   "outputs": [
    {
     "name": "stdout",
     "output_type": "stream",
     "text": [
      "('channel index to remove', 1)\n",
      "('vertical # channels', 68.49581537740822)\n",
      "('horizontal # channels', 29.491708396458616)\n",
      "('vertical channel angle :', 1.7112629051823596)\n",
      "('horizontal channel angle :', 1.8420127679055451)\n"
     ]
    }
   ],
   "source": [
    "#################### LAST PARTS ################################\n",
    "\n",
    "coll1_channel_index_to_remove = int (coll2_channel_gap_at_detector/minimum_channel_size)\n",
    "print ('channel index to remove' ,coll1_channel_index_to_remove)\n",
    "\n",
    "col_last_left = Collimator_geom()\n",
    "\n",
    "col_last_left.set_constraints(max_coll_height_detector=coll1_height_detector, \n",
    "                      max_coll_width_detector=coll1_width_detector,\n",
    "                      min_channel_wall_thickness=min_channel_wall_thickness,\n",
    "                      max_coll_length=coll1_length, \n",
    "                      min_channel_size=1.5,\n",
    "                      collimator_front_end_from_center=coll1_front_end_from_center,\n",
    "#                       remove_horizontal_blades_manually =True,\n",
    "#                       horizontal_blade_index_list_toRemove = [9],\n",
    "                      collimator_parts=True,\n",
    "                      no_right_border= True, \n",
    "                      vertical_odd_blades=True, \n",
    "                      horizontal_odd_blades=True )\n",
    "\n",
    "col_last_right = Collimator_geom()\n",
    "\n",
    "col_last_right.set_constraints(max_coll_height_detector=coll1_height_detector, \n",
    "                      max_coll_width_detector=coll1_width_detector,\n",
    "                      min_channel_wall_thickness=min_channel_wall_thickness,\n",
    "                      max_coll_length=coll1_length, \n",
    "                      min_channel_size=1.5,\n",
    "                      collimator_front_end_from_center=coll1_front_end_from_center,\n",
    "#                       remove_horizontal_blades_manually =True,\n",
    "#                       horizontal_blade_index_list_toRemove = [9],\n",
    "                      collimator_parts=True,\n",
    "                      no_right_border= False, \n",
    "                      vertical_odd_blades=True, \n",
    "                      horizontal_odd_blades=True )\n",
    "\n",
    "print ('vertical # channels', col_last_left.Vertical_number_channels(channel1_length))\n",
    "print ('horizontal # channels' , col_last_left.Horizontal_number_channels(channel1_length))\n",
    "\n",
    "\n",
    "\n",
    "\n",
    "col_last_left.set_parameters(vertical_number_channels=fist_vertical_number_blades,horizontal_number_channels=fist_horizontal_number_blades,\n",
    "                             channel_length =channel1_length)\n",
    "col_last_right.set_parameters(vertical_number_channels=fist_vertical_number_blades,horizontal_number_channels=fist_horizontal_number_blades,\n",
    "                              channel_length =channel1_length)\n",
    "\n",
    "print ('vertical channel angle :' ,col_last_left.vertical_channel_angle)\n",
    "print ('horizontal channel angle :' ,col_last_left.horizontal_channel_angle)\n",
    "\n",
    "colilast_left = col_last_left.gen_one_col(collimator_Nosupport=True)\n",
    "colilast_right = col_last_right.gen_collimators(detector_angles=[-(90+50)],multiple_collimator=False, collimator_Nosupport=True)"
   ]
  },
  {
   "cell_type": "code",
   "execution_count": 113,
   "metadata": {},
   "outputs": [],
   "source": [
    "# both=operations.unite(coli_middle_left, colilast_left)\n",
    "# both= operations.unite(operations.unite\n",
    "#                        (operations.unite(operations.unite(operations.unite(colilast_left, col_first), colilast_right), \n",
    "#                         coli_first_right), coli_middle_left), coli_middle_right)\n",
    "left= operations.unite(operations.unite(colilast_left, col_first), \n",
    "                        coli_middle_left)\n",
    "# right = operations.unite(operations.unite(colilast_right, coli_first_right), \n",
    "#                         coli_middle_right)\n",
    "right = operations.unite(coli_first_right, colilast_right, coli_middle_right)\n",
    "first_parts = operations.unite(col_first, coli_first_right)\n",
    "\n",
    "both = operations.unite(left, right)\n",
    "# both=operations.unite(coli_middle, coli2R)\n",
    "# both=operations.unite(operations.unite(operations.unite(coli2, coli3), coli2R), coli3R)\n",
    "file='middle_right'\n",
    "filename='%s.xml'%(file)\n",
    "outputfile=os.path.join(savepath, filename)\n",
    "with open (outputfile,'wt') as file_h:\n",
    "    weave(colilast_left,file_h, print_docs = False)"
   ]
  },
  {
   "cell_type": "code",
   "execution_count": 114,
   "metadata": {},
   "outputs": [],
   "source": [
    "p = SCADGen.Parser.Parser(outputfile)\n",
    "p.createSCAD()\n",
    "test = p.rootelems[0]"
   ]
  },
  {
   "cell_type": "code",
   "execution_count": 115,
   "metadata": {
    "collapsed": true
   },
   "outputs": [],
   "source": [
    "cadFile_name='%s.scad'%(file)\n",
    "cad_file_path=os.path.abspath(os.path.join(savepath, cadFile_name))"
   ]
  },
  {
   "cell_type": "code",
   "execution_count": 116,
   "metadata": {},
   "outputs": [
    {
     "data": {
      "text/plain": [
       "'/home/fi0/Collimator_3D/c3dp/figures/middle_right.scad'"
      ]
     },
     "execution_count": 116,
     "metadata": {},
     "output_type": "execute_result"
    }
   ],
   "source": [
    "cad_file_path"
   ]
  },
  {
   "cell_type": "code",
   "execution_count": 117,
   "metadata": {},
   "outputs": [],
   "source": [
    "!vglrun openscad {cad_file_path}"
   ]
  },
  {
   "cell_type": "code",
   "execution_count": null,
   "metadata": {
    "collapsed": true
   },
   "outputs": [],
   "source": []
  },
  {
   "cell_type": "code",
   "execution_count": null,
   "metadata": {
    "collapsed": true
   },
   "outputs": [],
   "source": []
  },
  {
   "cell_type": "code",
   "execution_count": null,
   "metadata": {
    "collapsed": true
   },
   "outputs": [],
   "source": []
  }
 ],
 "metadata": {
  "kernelspec": {
   "display_name": "mcvine",
   "language": "python",
   "name": "mcvine"
  },
  "language_info": {
   "codemirror_mode": {
    "name": "ipython",
    "version": 2
   },
   "file_extension": ".py",
   "mimetype": "text/x-python",
   "name": "python",
   "nbconvert_exporter": "python",
   "pygments_lexer": "ipython2",
   "version": "2.7.15"
  }
 },
 "nbformat": 4,
 "nbformat_minor": 2
}
