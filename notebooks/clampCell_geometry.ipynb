{
 "cells": [
  {
   "cell_type": "code",
   "execution_count": 2,
   "metadata": {
    "collapsed": true
   },
   "outputs": [],
   "source": [
    "import os, sys\n",
    "# import mcvine modules\n",
    "from instrument.geometry.pml import weave\n",
    "from instrument.geometry import  operations\n",
    "from instrument.geometry.pml.Renderer import Renderer as base"
   ]
  },
  {
   "cell_type": "code",
   "execution_count": 3,
   "metadata": {
    "collapsed": true
   },
   "outputs": [],
   "source": [
    "parent_dir = os.path.abspath(os.pardir)\n",
    "libpath = os.path.join(parent_dir, 'c3dp')\n",
    "\n",
    "if not libpath in sys.path:\n",
    "    sys.path.insert(0, libpath)"
   ]
  },
  {
   "cell_type": "code",
   "execution_count": 4,
   "metadata": {},
   "outputs": [],
   "source": [
    "import SCADGen.Parser\n",
    "from create_collimator_geometry import Collimator_geom\n",
    "from clampcell_geo import Clampcell"
   ]
  },
  {
   "cell_type": "code",
   "execution_count": 5,
   "metadata": {
    "collapsed": true
   },
   "outputs": [],
   "source": [
    "class File_inc_Renderer(base):\n",
    "    def _renderDocument(self, body):\n",
    "        self.onGeometry(body)\n",
    "        return\n",
    "    def header(self):\n",
    "        return []\n",
    "    def footer(self):\n",
    "        return []\n",
    "    def end(self):\n",
    "        return"
   ]
  },
  {
   "cell_type": "code",
   "execution_count": 6,
   "metadata": {},
   "outputs": [],
   "source": [
    "clampCell= Clampcell()\n",
    "outerBody=clampCell.outer_body()\n",
    "innerSleeve = clampCell.inner_sleeve()\n",
    "\n",
    "# gasket=dac.gasket()\n",
    "# gasket_holder=dac.gasket_holder()\n",
    "\n",
    "sample=clampCell.sample()\n",
    "\n",
    "# print (dac.upper_orLower_anvil_height_from_center())"
   ]
  },
  {
   "cell_type": "code",
   "execution_count": 7,
   "metadata": {
    "collapsed": true
   },
   "outputs": [],
   "source": [
    "scad_flag = True  ########CHANGE CAD FLAG HERE\n",
    "\n",
    "if scad_flag is True:\n",
    "    samplepath = os.path.join(parent_dir, 'figures')\n",
    "else:\n",
    "    samplepath = os.path.join(parent_dir, 'sample')"
   ]
  },
  {
   "cell_type": "code",
   "execution_count": null,
   "metadata": {},
   "outputs": [],
   "source": []
  },
  {
   "cell_type": "code",
   "execution_count": 13,
   "metadata": {},
   "outputs": [],
   "source": [
    "# both=operations.unite(operations.unite(operations.unite(operations.unite(anvil,gasket),\n",
    "#                     gasket_holder), seat_pistion), bar)\n",
    "\n",
    "# both=operations.unite(operations.unite(operations.unite(operations.unite(anvil,sorrounding_gasket),\n",
    "#                     seat_pistion), bar),sample)\n",
    "both=operations.unite(operations.unite(outerBody, innerSleeve), sample)\n",
    "\n",
    "body_sleeve = operations.unite(outerBody)\n",
    "\n",
    "# both=operations.unite(anvil,gasket_at_anvil)\n",
    "                  \n",
    "# both=operations.unite(anvil,sorrounding_gasket)\n",
    "\n",
    "# both= operations.rotate (both, transversal=1, angle='%s *degree' %(90))\n",
    "# both= truss\n",
    "# both=supports\n",
    "file='body_sleeve'#change the name of the file\n",
    "filename='%s.xml'%(file,)\n",
    "outputfile=os.path.join(samplepath, filename)\n",
    "with open (outputfile,'wt') as file_h:\n",
    "    if scad_flag:\n",
    "        weave(body_sleeve,file_h,print_docs = False)\n",
    "    else:\n",
    "        weave(body_sleeve,file_h,print_docs = False,renderer=File_inc_Renderer(), author='')"
   ]
  },
  {
   "cell_type": "code",
   "execution_count": 14,
   "metadata": {
    "collapsed": true
   },
   "outputs": [],
   "source": [
    "# cat {outputfile}"
   ]
  },
  {
   "cell_type": "code",
   "execution_count": 15,
   "metadata": {
    "collapsed": true
   },
   "outputs": [],
   "source": [
    "p = SCADGen.Parser.Parser(outputfile)\n",
    "p.createSCAD()\n",
    "test = p.rootelems[0]"
   ]
  },
  {
   "cell_type": "code",
   "execution_count": 16,
   "metadata": {
    "collapsed": true
   },
   "outputs": [],
   "source": [
    "#cat /home/fi0/Collimator_3D/c3dp/notebooks/../figures/anvil.scad"
   ]
  },
  {
   "cell_type": "code",
   "execution_count": 17,
   "metadata": {
    "collapsed": true
   },
   "outputs": [],
   "source": [
    "cadFile_name='%s.scad'%(file)\n",
    "cad_file_path=os.path.abspath(os.path.join(samplepath, cadFile_name))"
   ]
  },
  {
   "cell_type": "code",
   "execution_count": null,
   "metadata": {
    "collapsed": true
   },
   "outputs": [],
   "source": [
    "!vglrun openscad {cad_file_path}"
   ]
  },
  {
   "cell_type": "code",
   "execution_count": null,
   "metadata": {
    "collapsed": true
   },
   "outputs": [],
   "source": []
  },
  {
   "cell_type": "code",
   "execution_count": null,
   "metadata": {
    "collapsed": true
   },
   "outputs": [],
   "source": []
  },
  {
   "cell_type": "code",
   "execution_count": null,
   "metadata": {
    "collapsed": true
   },
   "outputs": [],
   "source": []
  }
 ],
 "metadata": {
  "kernelspec": {
   "display_name": "mcvine",
   "language": "python",
   "name": "mcvine"
  },
  "language_info": {
   "codemirror_mode": {
    "name": "ipython",
    "version": 2
   },
   "file_extension": ".py",
   "mimetype": "text/x-python",
   "name": "python",
   "nbconvert_exporter": "python",
   "pygments_lexer": "ipython2",
   "version": "2.7.15"
  }
 },
 "nbformat": 4,
 "nbformat_minor": 2
}
