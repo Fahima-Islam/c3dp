{
 "cells": [
  {
   "cell_type": "code",
   "execution_count": 187,
   "metadata": {},
   "outputs": [],
   "source": [
    "import mcvine \n",
    "from instrument.geometry.pml import weave\n",
    "from instrument.geometry import  operations"
   ]
  },
  {
   "cell_type": "code",
   "execution_count": 188,
   "metadata": {},
   "outputs": [],
   "source": [
    "import os, sys\n",
    "parent_dir = os.path.abspath(os.pardir)\n",
    "libpath = os.path.join(parent_dir, 'c3dp_source')\n",
    "figures_path = os.path.join (parent_dir, 'figures')\n",
    "sample_path = os.path.join (parent_dir, 'sample')\n",
    "if not libpath in sys.path:\n",
    "    sys.path.insert(0, libpath)\n",
    "# sys.path.insert(0, '/home/fi0/python3/lib/python3.5/site-packages')"
   ]
  },
  {
   "cell_type": "code",
   "execution_count": 189,
   "metadata": {},
   "outputs": [],
   "source": [
    "import SCADGen.Parser\n",
    "from collimator_zigzagBlade import Collimator_geom\n",
    "# import viewscad\n",
    "# import solid"
   ]
  },
  {
   "cell_type": "code",
   "execution_count": 190,
   "metadata": {},
   "outputs": [],
   "source": [
    "scad_flag = True  ########CHANGE CAD FLAG HERE\n",
    "\n",
    "if scad_flag is True:\n",
    "    savepath = figures_path\n",
    "else:\n",
    "    savepath = sample_path"
   ]
  },
  {
   "cell_type": "code",
   "execution_count": 191,
   "metadata": {},
   "outputs": [],
   "source": [
    "colimator_front_end_from_center= 50. #though the cell diameter is 3 mm, I can not put the collimator at 3 mm because\n",
    "                                   #if I put at 3 mm, there will be no blade (only full of channels as the minimum\n",
    "                                   # channel thickness is 3 mm) \n",
    "length_of_each_part=65."
   ]
  },
  {
   "cell_type": "code",
   "execution_count": 192,
   "metadata": {},
   "outputs": [
    {
     "name": "stdout",
     "output_type": "stream",
     "text": [
      "('inner radius', 50.0)\n",
      "('outer radius', 115.0)\n",
      "('minimum channel gap at big end', 6.8999999999999995)\n"
     ]
    }
   ],
   "source": [
    "########################### FIRST PART COMPONENTS ##############################\n",
    "coll3_length=65\n",
    "channel3_length=65\n",
    "coll3_inner_radius=colimator_front_end_from_center+(0.*length_of_each_part)\n",
    "print ('inner radius',coll3_inner_radius)\n",
    "coll3_outer_radius=coll3_length+coll3_inner_radius\n",
    "print ('outer radius', coll3_outer_radius)\n",
    "\n",
    "minimum_channel_size = 3.\n",
    "coll3_channel_gap_at_detector =  (minimum_channel_size/coll3_inner_radius)*coll3_outer_radius\n",
    "\n",
    "print ('minimum channel gap at big end', coll3_channel_gap_at_detector)"
   ]
  },
  {
   "cell_type": "code",
   "execution_count": 193,
   "metadata": {},
   "outputs": [
    {
     "name": "stdout",
     "output_type": "stream",
     "text": [
      "('inner radius', 115.0)\n",
      "('outer radius', 180.0)\n",
      "('minimum channel gap at big end', 4.695652173913043)\n"
     ]
    }
   ],
   "source": [
    "########################## MIDDLE PART COMPONENTS #########################################\n",
    "\n",
    "coll2_length=65.\n",
    "channel2_length=65.\n",
    "coll2_inner_radius=colimator_front_end_from_center+(1.*length_of_each_part)\n",
    "print ('inner radius', coll2_inner_radius)\n",
    "coll2_outer_radius=coll2_length+coll2_inner_radius\n",
    "print ('outer radius', coll2_outer_radius)\n",
    "\n",
    "coll2_channel_gap_at_detector =  (minimum_channel_size/coll2_inner_radius)*coll2_outer_radius\n",
    "\n",
    "print ('minimum channel gap at big end', coll2_channel_gap_at_detector)"
   ]
  },
  {
   "cell_type": "code",
   "execution_count": 194,
   "metadata": {},
   "outputs": [
    {
     "name": "stdout",
     "output_type": "stream",
     "text": [
      "('collimator front end from center', 180.0)\n",
      "('collimator length from center', 245.0)\n",
      "('channel index to remove', 1)\n",
      "('vertical # channels', 42.77793421690685)\n",
      "('horizontal # channels', 17.545592969919362)\n",
      "('vertical channel angle :', 0.9726014635154204)\n",
      "('horizontal channel angle :', 0.9308076542439726)\n"
     ]
    }
   ],
   "source": [
    "#################### LAST PARTS ################################\n",
    "coll1_length=65.\n",
    "channel1_length=65.\n",
    "min_channel_wall_thickness=1.\n",
    "coll1_height_detector=150.\n",
    "coll1_width_detector=60.\n",
    "coll1_front_end_from_center=colimator_front_end_from_center+(2.*length_of_each_part)\n",
    "print ('collimator front end from center', coll1_front_end_from_center)\n",
    "coll1_length_fr_center=coll1_front_end_from_center+coll1_length\n",
    "print ('collimator length from center', coll1_length_fr_center)\n",
    "\n",
    "coll1_channel_index_to_remove = int (coll2_channel_gap_at_detector/minimum_channel_size)\n",
    "print ('channel index to remove' ,coll1_channel_index_to_remove)\n",
    "\n",
    "col_last_left = Collimator_geom()\n",
    "\n",
    "col_last_left.set_constraints(max_coll_height_detector=coll1_height_detector, \n",
    "                      max_coll_width_detector=coll1_width_detector,\n",
    "                      min_channel_wall_thickness=min_channel_wall_thickness,\n",
    "                      max_coll_length=coll1_length, \n",
    "                      min_channel_size=2.5,\n",
    "                      collimator_front_end_from_center=coll1_front_end_from_center,\n",
    "                      collimator_parts=True,\n",
    "                      no_right_border= True, \n",
    "                      remove_blades_manually =True,\n",
    "                      horizontal_tup = [0,2,4,6,8,10,12,14,16,17,19,21, 23, 25, 27, 29, 31, 33],\n",
    "                                       #the first 8 are even and the last 8 are odd \n",
    "                      vertical_tup = [0,2,4,6,8,10,12],\n",
    "                      remove_blades = False,\n",
    "                      vertical_blade_index_to_remove = coll1_channel_index_to_remove,\n",
    "                      horizontal_blade_index_to_remove = coll1_channel_index_to_remove,\n",
    "                      vertical_odd_blades=False, \n",
    "                      horizontal_odd_blades=False )\n",
    "\n",
    "col_last_right = Collimator_geom()\n",
    "\n",
    "col_last_right.set_constraints(max_coll_height_detector=coll1_height_detector, \n",
    "                      max_coll_width_detector=coll1_width_detector,\n",
    "                      min_channel_wall_thickness=min_channel_wall_thickness,\n",
    "                      max_coll_length=coll1_length, \n",
    "                      min_channel_size=2.5,\n",
    "                      collimator_front_end_from_center=coll1_front_end_from_center,\n",
    "                      collimator_parts=True,\n",
    "                      no_right_border= False, \n",
    "                      remove_blades_manually =True,\n",
    "                      horizontal_tup = [0,2,4,6,8,10,12,14,16,17,19,21, 23, 25, 27, 29, 31, 33],\n",
    "                      vertical_tup = [0,2,4,6,8,10,12],\n",
    "                      remove_blades = False,\n",
    "                      vertical_blade_index_to_remove = coll1_channel_index_to_remove,\n",
    "                      horizontal_blade_index_to_remove = coll1_channel_index_to_remove,\n",
    "                      vertical_odd_blades=False, \n",
    "                      horizontal_odd_blades=False )\n",
    "\n",
    "print ('vertical # channels', col_last_left.Vertical_number_channels(channel1_length))\n",
    "print ('horizontal # channels' , col_last_left.Horizontal_number_channels(channel1_length))\n",
    "\n",
    "\n",
    "\n",
    "\n",
    "col_last_left.set_parameters(vertical_number_channels=35,horizontal_number_channels=15,channel_length =channel1_length)\n",
    "col_last_right.set_parameters(vertical_number_channels=35,horizontal_number_channels=15,channel_length =channel1_length)\n",
    "\n",
    "print ('vertical channel angle :' ,col_last_left.vertical_channel_angle)\n",
    "print ('horizontal channel angle :' ,col_last_left.horizontal_channel_angle)\n",
    "\n",
    "colilast_left = col_last_left.gen_one_col(collimator_Nosupport=True)\n",
    "colilast_right = col_last_right.gen_collimators(detector_angles=[-(90+50)],multiple_collimator=False, collimator_Nosupport=True)"
   ]
  },
  {
   "cell_type": "code",
   "execution_count": 195,
   "metadata": {},
   "outputs": [
    {
     "name": "stdout",
     "output_type": "stream",
     "text": [
      "('collimator height at detector', 110.20408163265306)\n",
      "('coll2_width_detector', 44.08163265306122)\n",
      "('channel index to remove', 2)\n",
      "('vertical # chanels', 22.776214471086394)\n",
      "('horizontal # channels', 9.341783230554618)\n",
      "('vertical channel angle :', 1.8911695123910954)\n",
      "('horizontal channel angle :', 1.9945878305227982)\n"
     ]
    }
   ],
   "source": [
    "####################### MIDDLE PARTS ###############################################\n",
    "\n",
    "\n",
    "coll2_height_detector=(coll1_height_detector/coll1_length_fr_center)*coll2_outer_radius\n",
    "print ('collimator height at detector', coll2_height_detector)\n",
    "coll2_width_detector=(coll1_width_detector/coll1_length_fr_center)*coll2_outer_radius\n",
    "print ('coll2_width_detector', coll2_width_detector)\n",
    "\n",
    "coll2_channel_index_to_remove = int (coll3_channel_gap_at_detector/minimum_channel_size)\n",
    "print ('channel index to remove' ,coll2_channel_index_to_remove)\n",
    "\n",
    "coll2 = Collimator_geom()\n",
    "coll2.set_constraints(max_coll_height_detector=coll2_height_detector, \n",
    "                      max_coll_width_detector=coll2_width_detector,\n",
    "                      min_channel_wall_thickness=min_channel_wall_thickness,\n",
    "                      max_coll_length=coll2_length, \n",
    "                      min_channel_size=3.,\n",
    "                      collimator_front_end_from_center=coll2_inner_radius,\n",
    "                      collimator_parts=True,\n",
    "                      initial_collimator_horizontal_channel_angle=0.0,\n",
    "                      initial_collimator_vertical_channel_angle= 0.0,\n",
    "                      no_right_border= True,\n",
    "                      remove_blades_manually =True,\n",
    "                      horizontal_tup = [0,1,2,3,4,5,6,7,9,10,11,12,13,14,15,16], # only the middle of 16 (8) is removed\n",
    "                      vertical_tup = [0,1,2,3,4,5],\n",
    "                      remove_blades = False,\n",
    "                      vertical_blade_index_to_remove = coll2_channel_index_to_remove+1,\n",
    "                      horizontal_blade_index_to_remove = coll2_channel_index_to_remove+1,\n",
    "                      vertical_even_blades= False,\n",
    "                      horizontal_even_blades=False) \n",
    "\n",
    "coll2_R = Collimator_geom()\n",
    "coll2_R.set_constraints(max_coll_height_detector=coll2_height_detector, \n",
    "                      max_coll_width_detector=coll2_width_detector,\n",
    "                      min_channel_wall_thickness=min_channel_wall_thickness,\n",
    "                      max_coll_length=coll2_length, \n",
    "                      min_channel_size=3.,\n",
    "                      collimator_front_end_from_center=coll2_inner_radius,\n",
    "                      collimator_parts=True,\n",
    "                      initial_collimator_horizontal_channel_angle=0.0,\n",
    "                      initial_collimator_vertical_channel_angle= 0.0,\n",
    "                      no_right_border= False,\n",
    "                      remove_blades_manually =True,\n",
    "                      horizontal_tup = [0,1,2,3,4,5,6,7,9,10,11,12,13,14,15,16],\n",
    "                      vertical_tup = [0,1,2,3,4,5],\n",
    "                      remove_blades = False,\n",
    "                      vertical_blade_index_to_remove = coll2_channel_index_to_remove+1,\n",
    "                      horizontal_blade_index_to_remove = coll2_channel_index_to_remove+1,\n",
    "                      vertical_even_blades= False,\n",
    "                      horizontal_even_blades=False)\n",
    "\n",
    "\n",
    "\n",
    "print ('vertical # chanels', coll2.Vertical_number_channels(channel2_length))\n",
    "print ('horizontal # channels', coll2.Horizontal_number_channels(channel2_length))\n",
    "\n",
    "\n",
    "coll2.set_parameters(vertical_number_channels=18,horizontal_number_channels=7, channel_length =channel2_length)\n",
    "coll2_R.set_parameters(vertical_number_channels=18,horizontal_number_channels=7, channel_length =channel2_length)\n",
    "\n",
    "\n",
    "print ('vertical channel angle :' ,coll2.vertical_channel_angle)\n",
    "print ('horizontal channel angle :' ,coll2.horizontal_channel_angle)\n",
    "\n",
    "coli_middle_left = coll2.gen_one_col(collimator_Nosupport=True)\n",
    "coli_middle_right = coll2_R.gen_collimators(detector_angles=[-(90+50)],multiple_collimator=False, collimator_Nosupport=True)\n",
    "\n",
    "\n",
    "# print (coll1_height_detector/coll2_height_detector)"
   ]
  },
  {
   "cell_type": "code",
   "execution_count": 196,
   "metadata": {},
   "outputs": [
    {
     "name": "stdout",
     "output_type": "stream",
     "text": [
      "('height detector', 70.40816326530613)\n",
      "('width detector', 28.163265306122447)\n",
      "('vertical #channels', 9.905110340873307)\n",
      "('horizontal # channels', 4.0626326994166995)\n",
      "('vertical channel angle :', 8.510262805759929)\n",
      "('horizontal channel angle :', 13.96211481365959)\n"
     ]
    }
   ],
   "source": [
    "########################### FIRST PARTS #################################################\n",
    "\n",
    "\n",
    "\n",
    "coll3_height_detector=(coll1_height_detector/coll1_length_fr_center)*coll3_outer_radius\n",
    "print ('height detector', coll3_height_detector)\n",
    "coll3_width_detector=(coll1_width_detector/coll1_length_fr_center)*coll3_outer_radius\n",
    "print ('width detector', coll3_width_detector)\n",
    "\n",
    "\n",
    "coll3 = Collimator_geom()\n",
    "coll3.set_constraints(max_coll_height_detector=coll3_height_detector, \n",
    "                      max_coll_width_detector=coll3_width_detector,\n",
    "                      min_channel_wall_thickness=min_channel_wall_thickness,\n",
    "                      max_coll_length=coll3_length, \n",
    "                      min_channel_size=3.,\n",
    "                      collimator_front_end_from_center=coll3_inner_radius,\n",
    "                      horizontal_odd_blades = False,\n",
    "                      vertical_odd_blades = False,\n",
    "                      collimator_parts=False,\n",
    "                      no_right_border= True\n",
    "                       )\n",
    "\n",
    "\n",
    "coll3_R = Collimator_geom()\n",
    "coll3_R.set_constraints(max_coll_height_detector=coll3_height_detector, \n",
    "                      max_coll_width_detector=coll3_width_detector,\n",
    "                      min_channel_wall_thickness=min_channel_wall_thickness,\n",
    "                      max_coll_length=coll3_length, \n",
    "                      min_channel_size=3.,\n",
    "                      collimator_front_end_from_center=coll3_inner_radius,\n",
    "                      horizontal_odd_blades = False,\n",
    "                      vertical_odd_blades = False,\n",
    "                      collimator_parts=False,\n",
    "                      no_right_border= False\n",
    "                       )\n",
    "\n",
    "\n",
    "print ('vertical #channels' , coll3.Vertical_number_channels(channel3_length))\n",
    "print ('horizontal # channels' , coll3.Horizontal_number_channels(channel3_length))\n",
    "\n",
    "\n",
    "coll3.set_parameters(vertical_number_channels=4,horizontal_number_channels=1,channel_length =channel3_length)\n",
    "coll3_R.set_parameters(vertical_number_channels=4,horizontal_number_channels=1,channel_length =channel3_length)\n",
    "\n",
    "print ('vertical channel angle :' ,coll3.vertical_channel_angle)\n",
    "print ('horizontal channel angle :' ,coll3.horizontal_channel_angle)\n",
    "\n",
    "col_first = coll3.gen_one_col(collimator_Nosupport=True)\n",
    "coli_first_right = coll3_R.gen_collimators(detector_angles=[-(90+50)],multiple_collimator=False, collimator_Nosupport=True)\n"
   ]
  },
  {
   "cell_type": "code",
   "execution_count": 197,
   "metadata": {},
   "outputs": [],
   "source": [
    "# both=operations.unite(coli_middle_left, colilast_left)\n",
    "# both= operations.unite(operations.unite\n",
    "#                        (operations.unite(operations.unite(operations.unite(colilast_left, col_first), colilast_right), \n",
    "#                         coli_first_right), coli_middle_left), coli_middle_right)\n",
    "left= operations.unite(operations.unite(colilast_left, col_first), \n",
    "                        coli_middle_left)\n",
    "right = operations.unite(operations.unite(colilast_right, coli_first_right), \n",
    "                        coli_middle_right)\n",
    "both = operations.unite(left, right)\n",
    "# both=operations.unite(coli_middle, coli2R)\n",
    "# both=operations.unite(operations.unite(operations.unite(coli2, coli3), coli2R), coli3R)\n",
    "file='all_left'\n",
    "filename='%s.xml'%(file)\n",
    "outputfile=os.path.join(savepath, filename)\n",
    "with open (outputfile,'wt') as file_h:\n",
    "    weave(left,file_h, print_docs = False)"
   ]
  },
  {
   "cell_type": "code",
   "execution_count": 198,
   "metadata": {},
   "outputs": [],
   "source": [
    "p = SCADGen.Parser.Parser(outputfile)\n",
    "p.createSCAD()\n",
    "test = p.rootelems[0]"
   ]
  },
  {
   "cell_type": "code",
   "execution_count": 199,
   "metadata": {},
   "outputs": [],
   "source": [
    "cadFile_name='%s.scad'%(file)\n",
    "cad_file_path=os.path.abspath(os.path.join(savepath, cadFile_name))"
   ]
  },
  {
   "cell_type": "code",
   "execution_count": 200,
   "metadata": {},
   "outputs": [
    {
     "data": {
      "text/plain": [
       "'/home/fi0/Collimator_3D/c3dp/figures/all_left.scad'"
      ]
     },
     "execution_count": 200,
     "metadata": {},
     "output_type": "execute_result"
    }
   ],
   "source": [
    "cad_file_path"
   ]
  },
  {
   "cell_type": "code",
   "execution_count": null,
   "metadata": {},
   "outputs": [],
   "source": [
    "!vglrun openscad {cad_file_path}"
   ]
  },
  {
   "cell_type": "code",
   "execution_count": null,
   "metadata": {},
   "outputs": [],
   "source": []
  },
  {
   "cell_type": "code",
   "execution_count": null,
   "metadata": {
    "collapsed": true
   },
   "outputs": [],
   "source": []
  }
 ],
 "metadata": {
  "kernelspec": {
   "display_name": "mcvine",
   "language": "python",
   "name": "mcvine"
  },
  "language_info": {
   "codemirror_mode": {
    "name": "ipython",
    "version": 2
   },
   "file_extension": ".py",
   "mimetype": "text/x-python",
   "name": "python",
   "nbconvert_exporter": "python",
   "pygments_lexer": "ipython2",
   "version": "2.7.15"
  }
 },
 "nbformat": 4,
 "nbformat_minor": 2
}
