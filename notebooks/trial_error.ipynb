{
 "cells": [
  {
   "cell_type": "code",
   "execution_count": 1,
   "metadata": {
    "collapsed": true
   },
   "outputs": [],
   "source": [
    "import sys, os\n",
    "import numpy as np"
   ]
  },
  {
   "cell_type": "code",
   "execution_count": 2,
   "metadata": {
    "collapsed": true
   },
   "outputs": [],
   "source": [
    "thisdir = os.path.dirname('__file__')\n",
    "libpath = os.path.join(thisdir, '../c3dp')\n",
    "if not libpath in sys.path:\n",
    "    sys.path.insert(0, libpath)"
   ]
  },
  {
   "cell_type": "code",
   "execution_count": 3,
   "metadata": {
    "collapsed": true
   },
   "outputs": [],
   "source": [
    "import gauge_volume as gv"
   ]
  },
  {
   "cell_type": "code",
   "execution_count": 19,
   "metadata": {
    "collapsed": true
   },
   "outputs": [],
   "source": [
    "sample_height=26. #mm\n",
    "sample_width=4.16 #mm\n",
    "collimator_openningSize_sample=3. # channel opening size\n",
    "collimator_inner_radius=16.02\n",
    "coll_length=380. #mm\n",
    "collimator_outer_radius=coll_length+collimator_inner_radius\n",
    "collimator_openningSize_detector=(collimator_outer_radius*collimator_openningSize_sample)/collimator_inner_radius\n",
    "\n",
    "pointsNum_z=10\n",
    "pointsNum_y=5\n",
    "stepsize=0.1\n",
    "zS=np.linspace(-sample_height/2., sample_height/2., num=pointsNum_z) #sample_positions_z vertical\n",
    "yS=np.linspace(-sample_width/2., sample_width/2., num=pointsNum_y) #sample_positions_y\n",
    "# zS=np.arange(-sample_height/2., sample_height/2., stepsize) #sample_positions_z vertical\n",
    "# yS=np.arange(-sample_width/2., sample_width/2., stepsize) #sample_positions_y\n",
    "# xS=np.linspace(-sample_width/2., sample_width/2., num=pointsNum_y) #sample_positions_x\n",
    "xS=0."
   ]
  },
  {
   "cell_type": "code",
   "execution_count": 33,
   "metadata": {},
   "outputs": [
    {
     "data": {
      "text/plain": [
       "(50, 3)"
      ]
     },
     "execution_count": 33,
     "metadata": {},
     "output_type": "execute_result"
    }
   ],
   "source": [
    "list_points=[]\n",
    "for valY in yS:\n",
    "    for valZ in zS:\n",
    "        list_points.append([xS, valY, valZ])\n",
    "arr=np.array(list_points)\n",
    "arr.shape"
   ]
  },
  {
   "cell_type": "code",
   "execution_count": 27,
   "metadata": {},
   "outputs": [
    {
     "data": {
      "text/plain": [
       "(50, 3)"
      ]
     },
     "execution_count": 27,
     "metadata": {},
     "output_type": "execute_result"
    }
   ],
   "source": []
  },
  {
   "cell_type": "code",
   "execution_count": 34,
   "metadata": {
    "collapsed": true
   },
   "outputs": [],
   "source": [
    "m=np.array(np.meshgrid(xS,yS,zS))"
   ]
  },
  {
   "cell_type": "code",
   "execution_count": 35,
   "metadata": {},
   "outputs": [
    {
     "data": {
      "text/plain": [
       "(3, 5, 1, 10)"
      ]
     },
     "execution_count": 35,
     "metadata": {},
     "output_type": "execute_result"
    }
   ],
   "source": [
    "m.shape"
   ]
  },
  {
   "cell_type": "code",
   "execution_count": 36,
   "metadata": {},
   "outputs": [
    {
     "data": {
      "text/plain": [
       "(5, 1, 10, 3)"
      ]
     },
     "execution_count": 36,
     "metadata": {},
     "output_type": "execute_result"
    }
   ],
   "source": [
    "m=m.transpose(1,2,3,0)\n",
    "m.shape"
   ]
  },
  {
   "cell_type": "code",
   "execution_count": 38,
   "metadata": {},
   "outputs": [
    {
     "data": {
      "text/plain": [
       "(50, 3)"
      ]
     },
     "execution_count": 38,
     "metadata": {},
     "output_type": "execute_result"
    }
   ],
   "source": [
    "m.shape=-1,3\n",
    "m.shape"
   ]
  },
  {
   "cell_type": "code",
   "execution_count": 28,
   "metadata": {},
   "outputs": [
    {
     "data": {
      "text/plain": [
       "array([[  0.        ,  -2.08      , -13.        ],\n",
       "       [  0.        ,  -2.08      , -10.11111111],\n",
       "       [  0.        ,  -2.08      ,  -7.22222222],\n",
       "       [  0.        ,  -2.08      ,  -4.33333333],\n",
       "       [  0.        ,  -2.08      ,  -1.44444444],\n",
       "       [  0.        ,  -2.08      ,   1.44444444],\n",
       "       [  0.        ,  -2.08      ,   4.33333333],\n",
       "       [  0.        ,  -2.08      ,   7.22222222],\n",
       "       [  0.        ,  -2.08      ,  10.11111111],\n",
       "       [  0.        ,  -2.08      ,  13.        ],\n",
       "       [  0.        ,  -1.04      , -13.        ],\n",
       "       [  0.        ,  -1.04      , -10.11111111],\n",
       "       [  0.        ,  -1.04      ,  -7.22222222],\n",
       "       [  0.        ,  -1.04      ,  -4.33333333],\n",
       "       [  0.        ,  -1.04      ,  -1.44444444],\n",
       "       [  0.        ,  -1.04      ,   1.44444444],\n",
       "       [  0.        ,  -1.04      ,   4.33333333],\n",
       "       [  0.        ,  -1.04      ,   7.22222222],\n",
       "       [  0.        ,  -1.04      ,  10.11111111],\n",
       "       [  0.        ,  -1.04      ,  13.        ],\n",
       "       [  0.        ,   0.        , -13.        ],\n",
       "       [  0.        ,   0.        , -10.11111111],\n",
       "       [  0.        ,   0.        ,  -7.22222222],\n",
       "       [  0.        ,   0.        ,  -4.33333333],\n",
       "       [  0.        ,   0.        ,  -1.44444444],\n",
       "       [  0.        ,   0.        ,   1.44444444],\n",
       "       [  0.        ,   0.        ,   4.33333333],\n",
       "       [  0.        ,   0.        ,   7.22222222],\n",
       "       [  0.        ,   0.        ,  10.11111111],\n",
       "       [  0.        ,   0.        ,  13.        ],\n",
       "       [  0.        ,   1.04      , -13.        ],\n",
       "       [  0.        ,   1.04      , -10.11111111],\n",
       "       [  0.        ,   1.04      ,  -7.22222222],\n",
       "       [  0.        ,   1.04      ,  -4.33333333],\n",
       "       [  0.        ,   1.04      ,  -1.44444444],\n",
       "       [  0.        ,   1.04      ,   1.44444444],\n",
       "       [  0.        ,   1.04      ,   4.33333333],\n",
       "       [  0.        ,   1.04      ,   7.22222222],\n",
       "       [  0.        ,   1.04      ,  10.11111111],\n",
       "       [  0.        ,   1.04      ,  13.        ],\n",
       "       [  0.        ,   2.08      , -13.        ],\n",
       "       [  0.        ,   2.08      , -10.11111111],\n",
       "       [  0.        ,   2.08      ,  -7.22222222],\n",
       "       [  0.        ,   2.08      ,  -4.33333333],\n",
       "       [  0.        ,   2.08      ,  -1.44444444],\n",
       "       [  0.        ,   2.08      ,   1.44444444],\n",
       "       [  0.        ,   2.08      ,   4.33333333],\n",
       "       [  0.        ,   2.08      ,   7.22222222],\n",
       "       [  0.        ,   2.08      ,  10.11111111],\n",
       "       [  0.        ,   2.08      ,  13.        ]])"
      ]
     },
     "execution_count": 28,
     "metadata": {},
     "output_type": "execute_result"
    }
   ],
   "source": [
    "m"
   ]
  },
  {
   "cell_type": "code",
   "execution_count": 29,
   "metadata": {},
   "outputs": [
    {
     "data": {
      "text/plain": [
       "array([[  0.        ,  -2.08      , -13.        ],\n",
       "       [  0.        ,  -2.08      , -10.11111111],\n",
       "       [  0.        ,  -2.08      ,  -7.22222222],\n",
       "       [  0.        ,  -2.08      ,  -4.33333333],\n",
       "       [  0.        ,  -2.08      ,  -1.44444444],\n",
       "       [  0.        ,  -2.08      ,   1.44444444],\n",
       "       [  0.        ,  -2.08      ,   4.33333333],\n",
       "       [  0.        ,  -2.08      ,   7.22222222],\n",
       "       [  0.        ,  -2.08      ,  10.11111111],\n",
       "       [  0.        ,  -2.08      ,  13.        ],\n",
       "       [  0.        ,  -1.04      , -13.        ],\n",
       "       [  0.        ,  -1.04      , -10.11111111],\n",
       "       [  0.        ,  -1.04      ,  -7.22222222],\n",
       "       [  0.        ,  -1.04      ,  -4.33333333],\n",
       "       [  0.        ,  -1.04      ,  -1.44444444],\n",
       "       [  0.        ,  -1.04      ,   1.44444444],\n",
       "       [  0.        ,  -1.04      ,   4.33333333],\n",
       "       [  0.        ,  -1.04      ,   7.22222222],\n",
       "       [  0.        ,  -1.04      ,  10.11111111],\n",
       "       [  0.        ,  -1.04      ,  13.        ],\n",
       "       [  0.        ,   0.        , -13.        ],\n",
       "       [  0.        ,   0.        , -10.11111111],\n",
       "       [  0.        ,   0.        ,  -7.22222222],\n",
       "       [  0.        ,   0.        ,  -4.33333333],\n",
       "       [  0.        ,   0.        ,  -1.44444444],\n",
       "       [  0.        ,   0.        ,   1.44444444],\n",
       "       [  0.        ,   0.        ,   4.33333333],\n",
       "       [  0.        ,   0.        ,   7.22222222],\n",
       "       [  0.        ,   0.        ,  10.11111111],\n",
       "       [  0.        ,   0.        ,  13.        ],\n",
       "       [  0.        ,   1.04      , -13.        ],\n",
       "       [  0.        ,   1.04      , -10.11111111],\n",
       "       [  0.        ,   1.04      ,  -7.22222222],\n",
       "       [  0.        ,   1.04      ,  -4.33333333],\n",
       "       [  0.        ,   1.04      ,  -1.44444444],\n",
       "       [  0.        ,   1.04      ,   1.44444444],\n",
       "       [  0.        ,   1.04      ,   4.33333333],\n",
       "       [  0.        ,   1.04      ,   7.22222222],\n",
       "       [  0.        ,   1.04      ,  10.11111111],\n",
       "       [  0.        ,   1.04      ,  13.        ],\n",
       "       [  0.        ,   2.08      , -13.        ],\n",
       "       [  0.        ,   2.08      , -10.11111111],\n",
       "       [  0.        ,   2.08      ,  -7.22222222],\n",
       "       [  0.        ,   2.08      ,  -4.33333333],\n",
       "       [  0.        ,   2.08      ,  -1.44444444],\n",
       "       [  0.        ,   2.08      ,   1.44444444],\n",
       "       [  0.        ,   2.08      ,   4.33333333],\n",
       "       [  0.        ,   2.08      ,   7.22222222],\n",
       "       [  0.        ,   2.08      ,  10.11111111],\n",
       "       [  0.        ,   2.08      ,  13.        ]])"
      ]
     },
     "execution_count": 29,
     "metadata": {},
     "output_type": "execute_result"
    }
   ],
   "source": [
    "arr"
   ]
  },
  {
   "cell_type": "code",
   "execution_count": 136,
   "metadata": {},
   "outputs": [
    {
     "data": {
      "text/plain": [
       "array([[ 2.94156421,  2.80014285,  2.6587215 ,  2.51730014,  2.37587878,\n",
       "         2.23445743,  2.09303607,  1.95161472,  1.81019336,  1.668772  ,\n",
       "         1.52735065,  1.38592929,  1.24450793,  1.10308658,  0.96166522,\n",
       "         0.82024387,  0.67882251,  0.53740115,  0.3959798 ,  0.25455844,\n",
       "         0.11313708,  0.02828427,  0.16970563,  0.31112698,  0.45254834,\n",
       "         0.5939697 ,  0.73539105,  0.87681241,  1.01823376,  1.15965512,\n",
       "         1.30107648,  1.44249783,  1.58391919,  1.72534055,  1.8667619 ,\n",
       "         2.00818326,  2.14960461,  2.29102597,  2.43244733,  2.57386868,\n",
       "         2.71529004,  2.8567114 ],\n",
       "       [18.31420214, 18.31420214, 18.31420214, 18.31420214, 18.31420214,\n",
       "        18.31420214, 18.31420214, 18.31420214, 18.31420214, 18.31420214,\n",
       "        18.31420214, 18.31420214, 18.31420214, 18.31420214, 18.31420214,\n",
       "        18.31420214, 18.31420214, 18.31420214, 18.31420214, 18.31420214,\n",
       "        18.31420214, 18.31420214, 18.31420214, 18.31420214, 18.31420214,\n",
       "        18.31420214, 18.31420214, 18.31420214, 18.31420214, 18.31420214,\n",
       "        18.31420214, 18.31420214, 18.31420214, 18.31420214, 18.31420214,\n",
       "        18.31420214, 18.31420214, 18.31420214, 18.31420214, 18.31420214,\n",
       "        18.31420214, 18.31420214]])"
      ]
     },
     "execution_count": 136,
     "metadata": {},
     "output_type": "execute_result"
    }
   ],
   "source": [
    "norm_x_y=np.sqrt(m[:, 0]**2+m[:,1]**2)\n",
    "norm_x_y"
   ]
  },
  {
   "cell_type": "code",
   "execution_count": 137,
   "metadata": {},
   "outputs": [
    {
     "data": {
      "text/plain": [
       "array([[[ -2.08,  -1.98,  -1.88,  -1.78,  -1.68,  -1.58,  -1.48,  -1.38,\n",
       "          -1.28,  -1.18,  -1.08,  -0.98,  -0.88,  -0.78,  -0.68,  -0.58,\n",
       "          -0.48,  -0.38,  -0.28,  -0.18,  -0.08,   0.02,   0.12,   0.22,\n",
       "           0.32,   0.42,   0.52,   0.62,   0.72,   0.82,   0.92,   1.02,\n",
       "           1.12,   1.22,   1.32,   1.42,   1.52,   1.62,   1.72,   1.82,\n",
       "           1.92,   2.02],\n",
       "        [ -2.08,  -1.98,  -1.88,  -1.78,  -1.68,  -1.58,  -1.48,  -1.38,\n",
       "          -1.28,  -1.18,  -1.08,  -0.98,  -0.88,  -0.78,  -0.68,  -0.58,\n",
       "          -0.48,  -0.38,  -0.28,  -0.18,  -0.08,   0.02,   0.12,   0.22,\n",
       "           0.32,   0.42,   0.52,   0.62,   0.72,   0.82,   0.92,   1.02,\n",
       "           1.12,   1.22,   1.32,   1.42,   1.52,   1.62,   1.72,   1.82,\n",
       "           1.92,   2.02]],\n",
       "\n",
       "       [[-12.9 , -12.9 , -12.9 , -12.9 , -12.9 , -12.9 , -12.9 , -12.9 ,\n",
       "         -12.9 , -12.9 , -12.9 , -12.9 , -12.9 , -12.9 , -12.9 , -12.9 ,\n",
       "         -12.9 , -12.9 , -12.9 , -12.9 , -12.9 , -12.9 , -12.9 , -12.9 ,\n",
       "         -12.9 , -12.9 , -12.9 , -12.9 , -12.9 , -12.9 , -12.9 , -12.9 ,\n",
       "         -12.9 , -12.9 , -12.9 , -12.9 , -12.9 , -12.9 , -12.9 , -12.9 ,\n",
       "         -12.9 , -12.9 ],\n",
       "        [-12.8 , -12.8 , -12.8 , -12.8 , -12.8 , -12.8 , -12.8 , -12.8 ,\n",
       "         -12.8 , -12.8 , -12.8 , -12.8 , -12.8 , -12.8 , -12.8 , -12.8 ,\n",
       "         -12.8 , -12.8 , -12.8 , -12.8 , -12.8 , -12.8 , -12.8 , -12.8 ,\n",
       "         -12.8 , -12.8 , -12.8 , -12.8 , -12.8 , -12.8 , -12.8 , -12.8 ,\n",
       "         -12.8 , -12.8 , -12.8 , -12.8 , -12.8 , -12.8 , -12.8 , -12.8 ,\n",
       "         -12.8 , -12.8 ]]])"
      ]
     },
     "execution_count": 137,
     "metadata": {},
     "output_type": "execute_result"
    }
   ],
   "source": [
    "m[:,[1,2]]"
   ]
  },
  {
   "cell_type": "code",
   "execution_count": 138,
   "metadata": {
    "collapsed": true
   },
   "outputs": [],
   "source": [
    "Cs_square = gv.make_square(collimator_inner_radius, collimator_openningSize_sample)\n",
    "Cd_square = gv.make_square(collimator_outer_radius, collimator_openningSize_detector)\n",
    "sample_points = arr\n",
    "\n",
    "theta_phiS = gv.theta_phi(Cs_square, sample_points)\n",
    "theta_phiD = gv.theta_phi(Cd_square, sample_points)"
   ]
  },
  {
   "cell_type": "code",
   "execution_count": 139,
   "metadata": {},
   "outputs": [
    {
     "data": {
      "text/plain": [
       "array([[  0.  ,  -2.08, -13.  ],\n",
       "       [  0.  ,  -2.08, -12.9 ],\n",
       "       [  0.  ,  -2.08, -12.8 ],\n",
       "       ...,\n",
       "       [  0.  ,   2.02,  12.7 ],\n",
       "       [  0.  ,   2.02,  12.8 ],\n",
       "       [  0.  ,   2.02,  12.9 ]])"
      ]
     },
     "execution_count": 139,
     "metadata": {},
     "output_type": "execute_result"
    }
   ],
   "source": [
    "sample_points"
   ]
  },
  {
   "cell_type": "code",
   "execution_count": 140,
   "metadata": {},
   "outputs": [
    {
     "data": {
      "text/plain": [
       "array([  0.  ,  -2.08, -13.  ])"
      ]
     },
     "execution_count": 140,
     "metadata": {},
     "output_type": "execute_result"
    }
   ],
   "source": [
    "sample_points[0]"
   ]
  },
  {
   "cell_type": "code",
   "execution_count": 141,
   "metadata": {},
   "outputs": [
    {
     "data": {
      "text/plain": [
       "array([  0.  ,  -2.08, -12.9 ])"
      ]
     },
     "execution_count": 141,
     "metadata": {},
     "output_type": "execute_result"
    }
   ],
   "source": [
    "sample_points[1]"
   ]
  },
  {
   "cell_type": "code",
   "execution_count": 142,
   "metadata": {},
   "outputs": [
    {
     "data": {
      "text/plain": [
       "array([  0.  ,  -2.08, -11.  ])"
      ]
     },
     "execution_count": 142,
     "metadata": {},
     "output_type": "execute_result"
    }
   ],
   "source": [
    "sample_points[20]"
   ]
  },
  {
   "cell_type": "code",
   "execution_count": 143,
   "metadata": {},
   "outputs": [
    {
     "data": {
      "text/plain": [
       "array([ 0.  , -1.98,  1.  ])"
      ]
     },
     "execution_count": 143,
     "metadata": {},
     "output_type": "execute_result"
    }
   ],
   "source": [
    "sample_points[400]"
   ]
  },
  {
   "cell_type": "code",
   "execution_count": null,
   "metadata": {
    "collapsed": true
   },
   "outputs": [],
   "source": []
  },
  {
   "cell_type": "code",
   "execution_count": null,
   "metadata": {
    "collapsed": true
   },
   "outputs": [],
   "source": []
  },
  {
   "cell_type": "code",
   "execution_count": 144,
   "metadata": {},
   "outputs": [
    {
     "data": {
      "text/plain": [
       "array([[[ -92.07347339, -102.59695384, -102.59695384,  -92.07347339],\n",
       "        [ -92.07347339, -102.59695384, -102.59695384,  -92.07347339],\n",
       "        [ -92.07347339, -102.59695384, -102.59695384,  -92.07347339],\n",
       "        ...,\n",
       "        [ -77.60759251,  -88.14086465,  -88.14086465,  -77.60759251],\n",
       "        [ -77.60759251,  -88.14086465,  -88.14086465,  -77.60759251],\n",
       "        [ -77.60759251,  -88.14086465,  -88.14086465,  -77.60759251]],\n",
       "\n",
       "       [[ 132.13016087,  131.45515559,  125.01404014,  125.65500153],\n",
       "        [ 131.93296854,  131.25850088,  124.77923874,  125.41832814],\n",
       "        [ 131.73454935,  131.06065478,  124.54309321,  125.18025606],\n",
       "        ...,\n",
       "        [  55.67329433,   55.05576395,   48.46145091,   49.11596012],\n",
       "        [  55.43573343,   54.81627858,   48.26179517,   48.91689446],\n",
       "        [  55.19952198,   54.57819635,   48.06337317,   48.7190275 ]]])"
      ]
     },
     "execution_count": 144,
     "metadata": {},
     "output_type": "execute_result"
    }
   ],
   "source": [
    "the_phi=np.array(np.rad2deg(theta_phiS))\n",
    "the_phi"
   ]
  },
  {
   "cell_type": "code",
   "execution_count": null,
   "metadata": {
    "collapsed": true
   },
   "outputs": [],
   "source": []
  },
  {
   "cell_type": "code",
   "execution_count": 145,
   "metadata": {},
   "outputs": [
    {
     "data": {
      "text/plain": [
       "(2, 10920, 4)"
      ]
     },
     "execution_count": 145,
     "metadata": {},
     "output_type": "execute_result"
    }
   ],
   "source": [
    "the_phi.shape"
   ]
  },
  {
   "cell_type": "code",
   "execution_count": 146,
   "metadata": {},
   "outputs": [
    {
     "data": {
      "text/plain": [
       "array([[[ -92.07347339,  132.13016087],\n",
       "        [-102.59695384,  131.45515559],\n",
       "        [-102.59695384,  125.01404014],\n",
       "        [ -92.07347339,  125.65500153]],\n",
       "\n",
       "       [[ -92.07347339,  131.93296854],\n",
       "        [-102.59695384,  131.25850088],\n",
       "        [-102.59695384,  124.77923874],\n",
       "        [ -92.07347339,  125.41832814]],\n",
       "\n",
       "       [[ -92.07347339,  131.73454935],\n",
       "        [-102.59695384,  131.06065478],\n",
       "        [-102.59695384,  124.54309321],\n",
       "        [ -92.07347339,  125.18025606]],\n",
       "\n",
       "       ...,\n",
       "\n",
       "       [[ -77.60759251,   55.67329433],\n",
       "        [ -88.14086465,   55.05576395],\n",
       "        [ -88.14086465,   48.46145091],\n",
       "        [ -77.60759251,   49.11596012]],\n",
       "\n",
       "       [[ -77.60759251,   55.43573343],\n",
       "        [ -88.14086465,   54.81627858],\n",
       "        [ -88.14086465,   48.26179517],\n",
       "        [ -77.60759251,   48.91689446]],\n",
       "\n",
       "       [[ -77.60759251,   55.19952198],\n",
       "        [ -88.14086465,   54.57819635],\n",
       "        [ -88.14086465,   48.06337317],\n",
       "        [ -77.60759251,   48.7190275 ]]])"
      ]
     },
     "execution_count": 146,
     "metadata": {},
     "output_type": "execute_result"
    }
   ],
   "source": [
    "the_phiT=the_phi.transpose(1,0,2).transpose(0,2,1)\n",
    "the_phiT"
   ]
  },
  {
   "cell_type": "code",
   "execution_count": 147,
   "metadata": {
    "collapsed": true
   },
   "outputs": [],
   "source": [
    "Syz=arr[:,[1,2]].T"
   ]
  },
  {
   "cell_type": "code",
   "execution_count": 148,
   "metadata": {
    "collapsed": true
   },
   "outputs": [],
   "source": [
    "sample_pos, gauge_volume = gv.gauge_volume(theta_phiS, theta_phiD, Syz)"
   ]
  },
  {
   "cell_type": "code",
   "execution_count": 149,
   "metadata": {},
   "outputs": [
    {
     "name": "stdout",
     "output_type": "stream",
     "text": [
      "10920\n",
      "(10920, 3)\n",
      "(2, 10920)\n"
     ]
    }
   ],
   "source": [
    "print (len(gauge_volume))\n",
    "print (sample_points.shape)\n",
    "print (sample_pos.shape)"
   ]
  },
  {
   "cell_type": "code",
   "execution_count": null,
   "metadata": {
    "collapsed": true
   },
   "outputs": [],
   "source": []
  },
  {
   "cell_type": "code",
   "execution_count": null,
   "metadata": {
    "collapsed": true
   },
   "outputs": [],
   "source": [
    "gv.making_plot(sample_pos, gauge_volume )"
   ]
  },
  {
   "cell_type": "code",
   "execution_count": null,
   "metadata": {
    "collapsed": true
   },
   "outputs": [],
   "source": []
  },
  {
   "cell_type": "code",
   "execution_count": null,
   "metadata": {
    "collapsed": true
   },
   "outputs": [],
   "source": []
  }
 ],
 "metadata": {
  "kernelspec": {
   "display_name": "mcvine",
   "language": "python",
   "name": "mcvine"
  },
  "language_info": {
   "codemirror_mode": {
    "name": "ipython",
    "version": 2
   },
   "file_extension": ".py",
   "mimetype": "text/x-python",
   "name": "python",
   "nbconvert_exporter": "python",
   "pygments_lexer": "ipython2",
   "version": "2.7.15"
  }
 },
 "nbformat": 4,
 "nbformat_minor": 2
}
