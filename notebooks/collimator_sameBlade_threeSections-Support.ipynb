{
 "cells": [
  {
   "cell_type": "code",
   "execution_count": 39,
   "metadata": {
    "collapsed": true
   },
   "outputs": [],
   "source": [
    "import mcvine \n",
    "from instrument.geometry.pml import weave\n",
    "from instrument.geometry import  operations"
   ]
  },
  {
   "cell_type": "code",
   "execution_count": 40,
   "metadata": {
    "collapsed": true
   },
   "outputs": [],
   "source": [
    "import os, sys\n",
    "parent_dir = os.path.abspath(os.pardir)\n",
    "libpath = os.path.join(parent_dir, 'c3dp_source')\n",
    "figures_path = os.path.join (parent_dir, 'figures')\n",
    "sample_path = os.path.join (parent_dir, 'sample')\n",
    "if not libpath in sys.path:\n",
    "    sys.path.insert(0, libpath)\n",
    "# sys.path.insert(0, '/home/fi0/python3/lib/python3.5/site-packages')"
   ]
  },
  {
   "cell_type": "code",
   "execution_count": 41,
   "metadata": {
    "collapsed": true
   },
   "outputs": [],
   "source": [
    "import SCADGen.Parser\n",
    "from collimator_zigzagBlade import Collimator_geom\n",
    "# import viewscad\n",
    "# import solid"
   ]
  },
  {
   "cell_type": "code",
   "execution_count": 42,
   "metadata": {
    "collapsed": true
   },
   "outputs": [],
   "source": [
    "scad_flag = True  ########CHANGE CAD FLAG HERE\n",
    "\n",
    "if scad_flag is True:\n",
    "    savepath = figures_path\n",
    "else:\n",
    "    savepath = sample_path"
   ]
  },
  {
   "cell_type": "code",
   "execution_count": 43,
   "metadata": {
    "collapsed": true
   },
   "outputs": [],
   "source": [
    "colimator_front_end_from_center= 80. #though the cell diameter is 3 mm, I can not put the collimator at 3 mm because\n",
    "                                   #if I put at 3 mm, there will be no blade (only full of channels as the minimum\n",
    "                                   # channel thickness is 3 mm) \n",
    "length_of_each_part=65."
   ]
  },
  {
   "cell_type": "code",
   "execution_count": 44,
   "metadata": {},
   "outputs": [
    {
     "name": "stdout",
     "output_type": "stream",
     "text": [
      "('inner radius', 80.0)\n",
      "('outer radius', 145.0)\n",
      "('minimum channel gap at big end', 5.4375)\n"
     ]
    }
   ],
   "source": [
    "########################### FIRST PART COMPONENTS ##############################\n",
    "coll3_length=65\n",
    "channel3_length=65\n",
    "coll3_inner_radius=colimator_front_end_from_center+(0.*length_of_each_part)\n",
    "print ('inner radius',coll3_inner_radius)\n",
    "coll3_outer_radius=coll3_length+coll3_inner_radius\n",
    "print ('outer radius', coll3_outer_radius)\n",
    "\n",
    "minimum_channel_size = 3.\n",
    "coll3_channel_gap_at_detector =  (minimum_channel_size/coll3_inner_radius)*coll3_outer_radius\n",
    "\n",
    "print ('minimum channel gap at big end', coll3_channel_gap_at_detector)"
   ]
  },
  {
   "cell_type": "code",
   "execution_count": 45,
   "metadata": {},
   "outputs": [
    {
     "name": "stdout",
     "output_type": "stream",
     "text": [
      "('inner radius', 145.0)\n",
      "('outer radius', 210.0)\n",
      "('minimum channel gap at big end', 4.344827586206897)\n"
     ]
    }
   ],
   "source": [
    "########################## MIDDLE PART COMPONENTS #########################################\n",
    "\n",
    "coll2_length=65.\n",
    "channel2_length=65.\n",
    "coll2_inner_radius=colimator_front_end_from_center+(1.*length_of_each_part)\n",
    "print ('inner radius', coll2_inner_radius)\n",
    "coll2_outer_radius=coll2_length+coll2_inner_radius\n",
    "print ('outer radius', coll2_outer_radius)\n",
    "\n",
    "coll2_channel_gap_at_detector =  (minimum_channel_size/coll2_inner_radius)*coll2_outer_radius\n",
    "\n",
    "print ('minimum channel gap at big end', coll2_channel_gap_at_detector)"
   ]
  },
  {
   "cell_type": "code",
   "execution_count": 46,
   "metadata": {},
   "outputs": [
    {
     "name": "stdout",
     "output_type": "stream",
     "text": [
      "('collimator front end from center', 210.0)\n",
      "('collimator length from center', 275.0)\n",
      "('channel index to remove', 1)\n",
      "('vertical # channels', 74.55089072790616)\n",
      "('horizontal # channels', 30.425269793514886)\n",
      "('vertical channel angle :', 1.0896513359326983)\n",
      "('horizontal channel angle :', 1.1319689208046853)\n"
     ]
    }
   ],
   "source": [
    "#################### LAST PARTS ################################\n",
    "coll1_length=65.\n",
    "channel1_length=65.\n",
    "min_channel_wall_thickness=1.\n",
    "coll1_height_detector=150.\n",
    "coll1_width_detector=60.\n",
    "coll1_front_end_from_center=colimator_front_end_from_center+(2.*length_of_each_part)\n",
    "print ('collimator front end from center', coll1_front_end_from_center)\n",
    "coll1_length_fr_center=coll1_front_end_from_center+coll1_length\n",
    "print ('collimator length from center', coll1_length_fr_center)\n",
    "\n",
    "coll1_channel_index_to_remove = int (coll2_channel_gap_at_detector/minimum_channel_size)\n",
    "print ('channel index to remove' ,coll1_channel_index_to_remove)\n",
    "\n",
    "col_last_left = Collimator_geom()\n",
    "\n",
    "col_last_left.set_constraints(max_coll_height_detector=coll1_height_detector, \n",
    "                      max_coll_width_detector=coll1_width_detector,\n",
    "                      min_channel_wall_thickness=min_channel_wall_thickness,\n",
    "                      max_coll_length=coll1_length, \n",
    "                      min_channel_size=1.5,\n",
    "                      collimator_front_end_from_center=coll1_front_end_from_center,\n",
    "                      collimator_parts=True,\n",
    "                      no_right_border= True, \n",
    "                      vertical_odd_blades=True, \n",
    "                      horizontal_odd_blades=True )\n",
    "\n",
    "col_last_right = Collimator_geom()\n",
    "\n",
    "col_last_right.set_constraints(max_coll_height_detector=coll1_height_detector, \n",
    "                      max_coll_width_detector=coll1_width_detector,\n",
    "                      min_channel_wall_thickness=min_channel_wall_thickness,\n",
    "                      max_coll_length=coll1_length, \n",
    "                      min_channel_size=1.5,\n",
    "                      collimator_front_end_from_center=coll1_front_end_from_center,\n",
    "                      collimator_parts=True,\n",
    "                      no_right_border= False, \n",
    "                      vertical_odd_blades=True, \n",
    "                      horizontal_odd_blades=True )\n",
    "\n",
    "print ('vertical # channels', col_last_left.Vertical_number_channels(channel1_length))\n",
    "print ('horizontal # channels' , col_last_left.Horizontal_number_channels(channel1_length))\n",
    "\n",
    "\n",
    "\n",
    "\n",
    "col_last_left.set_parameters(vertical_number_channels=28,horizontal_number_channels=11,channel_length =channel1_length)\n",
    "col_last_right.set_parameters(vertical_number_channels=28,horizontal_number_channels=11,channel_length =channel1_length)\n",
    "\n",
    "print ('vertical channel angle :' ,col_last_left.vertical_channel_angle)\n",
    "print ('horizontal channel angle :' ,col_last_left.horizontal_channel_angle)\n",
    "\n",
    "colilast_left = col_last_left.gen_one_col(collimator_Nosupport=True)\n",
    "colilast_right = col_last_right.gen_collimators(detector_angles=[-(90+50)],multiple_collimator=False, collimator_Nosupport=True)"
   ]
  },
  {
   "cell_type": "code",
   "execution_count": 47,
   "metadata": {},
   "outputs": [
    {
     "name": "stdout",
     "output_type": "stream",
     "text": [
      "('collimator height at detector', 114.54545454545453)\n",
      "('coll2_width_detector', 45.81818181818181)\n",
      "('channel index to remove', 1)\n",
      "('vertical # chanels', 51.47585522116104)\n",
      "('horizontal # channels', 21.008022408100928)\n",
      "('vertical channel angle :', 1.0896513359326983)\n",
      "('horizontal channel angle :', 1.131968920804685)\n"
     ]
    }
   ],
   "source": [
    "####################### MIDDLE PARTS ###############################################\n",
    "\n",
    "\n",
    "coll2_height_detector=(coll1_height_detector/coll1_length_fr_center)*coll2_outer_radius\n",
    "print ('collimator height at detector', coll2_height_detector)\n",
    "coll2_width_detector=(coll1_width_detector/coll1_length_fr_center)*coll2_outer_radius\n",
    "print ('coll2_width_detector', coll2_width_detector)\n",
    "\n",
    "coll2_channel_index_to_remove = int (coll3_channel_gap_at_detector/minimum_channel_size)\n",
    "print ('channel index to remove' ,coll2_channel_index_to_remove)\n",
    "\n",
    "coll2 = Collimator_geom()\n",
    "coll2.set_constraints(max_coll_height_detector=coll2_height_detector, \n",
    "                      max_coll_width_detector=coll2_width_detector,\n",
    "                      min_channel_wall_thickness=min_channel_wall_thickness,\n",
    "                      max_coll_length=coll2_length, \n",
    "                      min_channel_size=1.5,\n",
    "                      collimator_front_end_from_center=coll2_inner_radius,\n",
    "                      collimator_parts=True,\n",
    "                      initial_collimator_horizontal_channel_angle=0.0,\n",
    "                      initial_collimator_vertical_channel_angle= 0.0,\n",
    "                      no_right_border= True,\n",
    "                      vertical_even_blades= True,\n",
    "                      horizontal_even_blades=True) \n",
    "\n",
    "coll2_R = Collimator_geom()\n",
    "coll2_R.set_constraints(max_coll_height_detector=coll2_height_detector, \n",
    "                      max_coll_width_detector=coll2_width_detector,\n",
    "                      min_channel_wall_thickness=min_channel_wall_thickness,\n",
    "                      max_coll_length=coll2_length, \n",
    "                      min_channel_size=1.5,\n",
    "                      collimator_front_end_from_center=coll2_inner_radius,\n",
    "                      collimator_parts=True,\n",
    "                      initial_collimator_horizontal_channel_angle=0.0,\n",
    "                      initial_collimator_vertical_channel_angle= 0.0,\n",
    "                      no_right_border= False,\n",
    "                      vertical_even_blades= True,\n",
    "                      horizontal_even_blades=True)\n",
    "\n",
    "\n",
    "\n",
    "print ('vertical # chanels', coll2.Vertical_number_channels(channel2_length))\n",
    "print ('horizontal # channels', coll2.Horizontal_number_channels(channel2_length))\n",
    "\n",
    "\n",
    "coll2.set_parameters(vertical_number_channels=28,horizontal_number_channels=11, channel_length =channel2_length)\n",
    "coll2_R.set_parameters(vertical_number_channels=28, horizontal_number_channels=11, channel_length =channel2_length)\n",
    "\n",
    "\n",
    "print ('vertical channel angle :' ,coll2.vertical_channel_angle)\n",
    "print ('horizontal channel angle :' ,coll2.horizontal_channel_angle)\n",
    "\n",
    "coli_middle_left = coll2.gen_one_col(collimator_Nosupport=True)\n",
    "coli_middle_right = coll2_R.gen_collimators(detector_angles=[-(90+50)],multiple_collimator=False, collimator_Nosupport=True)\n",
    "\n",
    "\n",
    "# print (coll1_height_detector/coll2_height_detector)"
   ]
  },
  {
   "cell_type": "code",
   "execution_count": 48,
   "metadata": {},
   "outputs": [
    {
     "name": "stdout",
     "output_type": "stream",
     "text": [
      "('height detector', 79.09090909090908)\n",
      "('width detector', 31.636363636363633)\n",
      "('horizontal acceptance angle', 22.10001050194483)\n",
      "('vertical acceptance angle', 52.0446937964797)\n",
      "('vertical #channels', 9.696172500303133)\n",
      "('horizontal # channels', 4.117336436320092)\n",
      "('vertical channel angle :', 5.782743755164411)\n",
      "('horizontal channel angle :', 5.5250026254862075)\n"
     ]
    }
   ],
   "source": [
    "########################### FIRST PARTS #################################################\n",
    "truss_base_thickness = 10,\n",
    "truss_height_factor = 10\n",
    "truss_curvature =1 ,\n",
    "trass_final_height_factor = 5 \n",
    "beam_dist_support = 3\n",
    "touch_to_halfcircle = 1\n",
    "truss_blade_length = 1\n",
    "\n",
    "coll3_height_detector=(coll1_height_detector/coll1_length_fr_center)*coll3_outer_radius\n",
    "print ('height detector', coll3_height_detector)\n",
    "coll3_width_detector=(coll1_width_detector/coll1_length_fr_center)*coll3_outer_radius #half part\n",
    "# coll3_width_detector=(coll1_width_detector/coll1_length_fr_center)*coll3_outer_radius*2 #full part\n",
    "print ('width detector', coll3_width_detector)\n",
    "\n",
    "\n",
    "coll3 = Collimator_geom()\n",
    "coll3.set_constraints(max_coll_height_detector=coll3_height_detector, \n",
    "                      max_coll_width_detector=coll3_width_detector,\n",
    "                      min_channel_wall_thickness=min_channel_wall_thickness,\n",
    "                      max_coll_length=coll3_length, \n",
    "                      min_channel_size=1.5,\n",
    "                      collimator_front_end_from_center=16,    #coll3_inner_radius,\n",
    "                      horizontal_odd_blades = True,\n",
    "                      vertical_odd_blades = True,\n",
    "                      collimator_parts=False,\n",
    "                      no_right_border= True,\n",
    "                      truss_base_thickness = truss_base_thickness,\n",
    "                      truss_height_factor = truss_height_factor,\n",
    "                      truss_curvature = truss_curvature,\n",
    "                      trass_final_height_factor = trass_final_height_factor,\n",
    "                      beam_dist_support = beam_dist_support,\n",
    "                      touch_to_halfcircle= touch_to_halfcircle,\n",
    "                      truss_blade_length = truss_blade_length,\n",
    "                       )\n",
    "\n",
    "\n",
    "coll3_R = Collimator_geom()\n",
    "coll3_R.set_constraints(max_coll_height_detector=coll3_height_detector, \n",
    "                      max_coll_width_detector=coll3_width_detector,\n",
    "                      min_channel_wall_thickness=min_channel_wall_thickness,\n",
    "                      max_coll_length=coll3_length, \n",
    "                      min_channel_size=1.5,\n",
    "                      collimator_front_end_from_center=coll3_inner_radius,\n",
    "                      horizontal_odd_blades = True,\n",
    "                      vertical_odd_blades = True,\n",
    "                      collimator_parts=False,\n",
    "                      no_right_border= False\n",
    "                       )\n",
    "\n",
    "print ('horizontal acceptance angle', coll3.horizontal_acceptance_angle)\n",
    "print ('vertical acceptance angle' , coll3.vertical_acceptance_angle)\n",
    "\n",
    "print ('vertical #channels' , coll3.Vertical_number_channels(channel3_length))\n",
    "print ('horizontal # channels' , coll3.Horizontal_number_channels(channel3_length))\n",
    "\n",
    "\n",
    "# coll3.set_parameters(vertical_number_channels=28,horizontal_number_channels=11*2,\n",
    "#                     channel_length =channel3_length)  # the full first part\n",
    "# coll3_R.set_parameters(vertical_number_channels=28,horizontal_number_channels=11*2\n",
    "#                          ,channel_length =channel3_length)\n",
    "\n",
    "coll3.set_parameters(vertical_number_channels=9,horizontal_number_channels=4,channel_length =channel3_length)\n",
    "coll3_R.set_parameters(vertical_number_channels=28,horizontal_number_channels=11,channel_length =channel3_length)\n",
    "\n",
    "print ('vertical channel angle :' ,coll3.vertical_channel_angle)\n",
    "print ('horizontal channel angle :' ,coll3.horizontal_channel_angle)\n",
    "\n",
    "col_first = coll3.gen_one_col(collimator_Nosupport=False)\n",
    "# coli_first_right = coll3_R.gen_collimators(detector_angles=[-(90+50)],multiple_collimator=False, collimator_Nosupport=True)\n",
    "coli_first_right = coll3_R.gen_collimators(detector_angles=[180.+ 12],multiple_collimator=False, collimator_Nosupport=True)"
   ]
  },
  {
   "cell_type": "code",
   "execution_count": 49,
   "metadata": {},
   "outputs": [],
   "source": [
    "# both=operations.unite(coli_middle_left, colilast_left)\n",
    "# both= operations.unite(operations.unite\n",
    "#                        (operations.unite(operations.unite(operations.unite(colilast_left, col_first), colilast_right), \n",
    "#                         coli_first_right), coli_middle_left), coli_middle_right)\n",
    "left= operations.unite(operations.unite(colilast_left, col_first), \n",
    "                        coli_middle_left)\n",
    "# right = operations.unite(operations.unite(colilast_right, coli_first_right), \n",
    "#                         coli_middle_right)\n",
    "right = operations.unite(colilast_right, coli_middle_right)\n",
    "first_parts = operations.unite(col_first, coli_first_right)\n",
    "\n",
    "both = operations.unite(left, right)\n",
    "# both=operations.unite(coli_middle, coli2R)\n",
    "# both=operations.unite(operations.unite(operations.unite(coli2, coli3), coli2R), coli3R)\n",
    "file='col_first_support'\n",
    "filename='%s.xml'%(file)\n",
    "outputfile=os.path.join(savepath, filename)\n",
    "with open (outputfile,'wt') as file_h:\n",
    "    weave(col_first,file_h, print_docs = False)"
   ]
  },
  {
   "cell_type": "code",
   "execution_count": 50,
   "metadata": {},
   "outputs": [],
   "source": [
    "p = SCADGen.Parser.Parser(outputfile)\n",
    "p.createSCAD()\n",
    "test = p.rootelems[0]"
   ]
  },
  {
   "cell_type": "code",
   "execution_count": 51,
   "metadata": {
    "collapsed": true
   },
   "outputs": [],
   "source": [
    "cadFile_name='%s.scad'%(file)\n",
    "cad_file_path=os.path.abspath(os.path.join(savepath, cadFile_name))"
   ]
  },
  {
   "cell_type": "code",
   "execution_count": 52,
   "metadata": {},
   "outputs": [
    {
     "data": {
      "text/plain": [
       "'/home/fi0/Collimator_3D/c3dp/figures/col_first_support.scad'"
      ]
     },
     "execution_count": 52,
     "metadata": {},
     "output_type": "execute_result"
    }
   ],
   "source": [
    "cad_file_path"
   ]
  },
  {
   "cell_type": "code",
   "execution_count": 53,
   "metadata": {
    "collapsed": true
   },
   "outputs": [],
   "source": [
    "!vglrun openscad {cad_file_path}"
   ]
  },
  {
   "cell_type": "code",
   "execution_count": null,
   "metadata": {
    "collapsed": true
   },
   "outputs": [],
   "source": []
  },
  {
   "cell_type": "code",
   "execution_count": null,
   "metadata": {
    "collapsed": true
   },
   "outputs": [],
   "source": []
  },
  {
   "cell_type": "code",
   "execution_count": null,
   "metadata": {
    "collapsed": true
   },
   "outputs": [],
   "source": []
  },
  {
   "cell_type": "code",
   "execution_count": null,
   "metadata": {
    "collapsed": true
   },
   "outputs": [],
   "source": []
  }
 ],
 "metadata": {
  "kernelspec": {
   "display_name": "mcvine",
   "language": "python",
   "name": "mcvine"
  },
  "language_info": {
   "codemirror_mode": {
    "name": "ipython",
    "version": 2
   },
   "file_extension": ".py",
   "mimetype": "text/x-python",
   "name": "python",
   "nbconvert_exporter": "python",
   "pygments_lexer": "ipython2",
   "version": "2.7.15"
  }
 },
 "nbformat": 4,
 "nbformat_minor": 2
}
