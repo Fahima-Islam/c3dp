{
 "cells": [
  {
   "cell_type": "code",
   "execution_count": 1,
   "metadata": {},
   "outputs": [],
   "source": [
    "import mcvine \n",
    "from instrument.geometry.pml import weave\n",
    "from instrument.geometry import  operations"
   ]
  },
  {
   "cell_type": "code",
   "execution_count": 2,
   "metadata": {},
   "outputs": [],
   "source": [
    "import os, sys\n",
    "parent_dir = os.path.abspath(os.pardir)\n",
    "libpath = os.path.join(parent_dir, 'c3dp_source')\n",
    "figures_path = os.path.join (parent_dir, 'figures')\n",
    "sample_path = os.path.join (parent_dir, 'sample')\n",
    "if not libpath in sys.path:\n",
    "    sys.path.insert(0, libpath)\n",
    "# sys.path.insert(0, '/home/fi0/python3/lib/python3.5/site-packages')"
   ]
  },
  {
   "cell_type": "code",
   "execution_count": 3,
   "metadata": {},
   "outputs": [],
   "source": [
    "import SCADGen.Parser\n",
    "from collimator_zigzagBlade import Collimator_geom\n",
    "# import viewscad\n",
    "# import solid"
   ]
  },
  {
   "cell_type": "code",
   "execution_count": 4,
   "metadata": {},
   "outputs": [],
   "source": [
    "scad_flag = True  ########CHANGE CAD FLAG HERE\n",
    "\n",
    "if scad_flag is True:\n",
    "    savepath = figures_path\n",
    "else:\n",
    "    savepath = sample_path"
   ]
  },
  {
   "cell_type": "code",
   "execution_count": 5,
   "metadata": {},
   "outputs": [],
   "source": [
    "colimator_front_end_from_center=30.\n",
    "length_of_each_part=60."
   ]
  },
  {
   "cell_type": "code",
   "execution_count": 6,
   "metadata": {},
   "outputs": [
    {
     "name": "stdout",
     "output_type": "stream",
     "text": [
      "33.564973798095714\n",
      "13.864435833550033\n",
      "('vertical channel angle :', 1.1654952954946234)\n",
      "('horizontal channel angle :', 1.2220725862446786)\n"
     ]
    }
   ],
   "source": [
    "#################### LAST PARTS ################################\n",
    "coll1_length=65.\n",
    "channel1_length=65.\n",
    "min_channel_wall_thickness=1.\n",
    "coll1_height_detector=150.\n",
    "coll1_width_detector=60.\n",
    "coll1_front_end_from_center=colimator_front_end_from_center+(2.*length_of_each_part)\n",
    "coll1_length_fr_center=coll1_front_end_from_center+coll1_length\n",
    "\n",
    "col_last_left = Collimator_geom()\n",
    "col_last_left.set_constraints(max_coll_height_detector=coll1_height_detector, \n",
    "                      max_coll_width_detector=coll1_width_detector,\n",
    "                      min_channel_wall_thickness=min_channel_wall_thickness,\n",
    "                      max_coll_length=coll1_length, min_channel_size=3.,\n",
    "                      collimator_front_end_from_center=coll1_front_end_from_center,\n",
    "                      collimator_parts=True,\n",
    "                      no_right_border= True )\n",
    "\n",
    "col_last_right = Collimator_geom()\n",
    "col_last_right.set_constraints(max_coll_height_detector=coll1_height_detector, \n",
    "                      max_coll_width_detector=coll1_width_detector,\n",
    "                      min_channel_wall_thickness=min_channel_wall_thickness,\n",
    "                      max_coll_length=coll1_length, min_channel_size=3.,\n",
    "                      collimator_front_end_from_center=coll1_front_end_from_center,\n",
    "                      collimator_parts=True,\n",
    "                      no_right_border= False)\n",
    "\n",
    "print (col_last_left.Vertical_number_channels(channel1_length))\n",
    "print (col_last_left.Horizontal_number_channels(channel1_length))\n",
    "\n",
    "\n",
    "\n",
    "\n",
    "col_last_left.set_parameters(vertical_number_channels=33.,horizontal_number_channels=13.,channel_length =channel1_length)\n",
    "col_last_right.set_parameters(vertical_number_channels=33.,horizontal_number_channels=13.,channel_length =channel1_length)\n",
    "\n",
    "print ('vertical channel angle :' ,col_last_left.vertical_channel_angle)\n",
    "print ('horizontal channel angle :' ,col_last_left.horizontal_channel_angle)\n",
    "\n",
    "colilast_left = col_last_left.gen_one_col(collimator_Nosupport=True)\n",
    "colilast_right = col_last_right.gen_collimators(detector_angles=[-(90+50)],multiple_collimator=False, collimator_Nosupport=True)\n"
   ]
  },
  {
   "cell_type": "code",
   "execution_count": 7,
   "metadata": {},
   "outputs": [
    {
     "name": "stdout",
     "output_type": "stream",
     "text": [
      "20.14017754016672\n",
      "8.31915439176625\n",
      "('vertical channel angle :', 1.9230672375661286)\n",
      "('horizontal channel angle :', 1.9858679526476029)\n"
     ]
    }
   ],
   "source": [
    "####################### MIDDLE PARTS ###############################################\n",
    "coll2_length=65.\n",
    "channel2_length=65.\n",
    "coll2_inner_radius=colimator_front_end_from_center+(1.*length_of_each_part)\n",
    "coll2_outer_radius=coll2_length+coll2_inner_radius\n",
    "\n",
    "\n",
    "coll2_height_detector=(coll1_height_detector/coll1_length_fr_center)*coll2_outer_radius\n",
    "coll2_width_detector=(coll1_width_detector/coll1_length_fr_center)*coll2_outer_radius\n",
    "\n",
    "\n",
    "coll2 = Collimator_geom()\n",
    "coll2.set_constraints(max_coll_height_detector=coll2_height_detector, \n",
    "                      max_coll_width_detector=coll2_width_detector,\n",
    "                      min_channel_wall_thickness=min_channel_wall_thickness,\n",
    "                      max_coll_length=coll2_length, min_channel_size=3.,\n",
    "                      collimator_front_end_from_center=coll2_inner_radius,\n",
    "                      collimator_parts=True,\n",
    "                      initial_collimator_horizontal_channel_angle=0.0,\n",
    "                      initial_collimator_vertical_channel_angle= 0.0,\n",
    "                      no_right_border= True) \n",
    "\n",
    "coll2_R = Collimator_geom()\n",
    "coll2_R.set_constraints(max_coll_height_detector=coll2_height_detector, \n",
    "                      max_coll_width_detector=coll2_width_detector,\n",
    "                      min_channel_wall_thickness=min_channel_wall_thickness,\n",
    "                      max_coll_length=coll2_length, min_channel_size=3.,\n",
    "                      collimator_front_end_from_center=coll2_inner_radius,\n",
    "                      collimator_parts=True,\n",
    "                      initial_collimator_horizontal_channel_angle=0.0,\n",
    "                      initial_collimator_vertical_channel_angle= 0.0,\n",
    "                      no_right_border= False)\n",
    "\n",
    "\n",
    "\n",
    "print (coll2.Vertical_number_channels(channel2_length))\n",
    "print (coll2.Horizontal_number_channels(channel2_length))\n",
    "\n",
    "\n",
    "coll2.set_parameters(vertical_number_channels=20,horizontal_number_channels=8, channel_length =channel2_length)\n",
    "coll2_R.set_parameters(vertical_number_channels=20,horizontal_number_channels=8, channel_length =channel2_length)\n",
    "\n",
    "\n",
    "print ('vertical channel angle :' ,coll2.vertical_channel_angle)\n",
    "print ('horizontal channel angle :' ,coll2.horizontal_channel_angle)\n",
    "\n",
    "coli_middle_left = coll2.gen_one_col(collimator_Nosupport=True)\n",
    "coli_middle_right = coll2_R.gen_collimators(detector_angles=[-(90+50)],multiple_collimator=False, collimator_Nosupport=True)\n",
    "\n",
    "\n",
    "# print (coll1_height_detector/coll2_height_detector)"
   ]
  },
  {
   "cell_type": "code",
   "execution_count": 8,
   "metadata": {},
   "outputs": [
    {
     "name": "stdout",
     "output_type": "stream",
     "text": [
      "6.718361257949475\n",
      "2.775103866541187\n",
      "('vertical channel angle :', 6.41022412522043)\n",
      "('horizontal channel angle :', 7.943471810590411)\n"
     ]
    }
   ],
   "source": [
    "########################### FIRST PARTS #################################################\n",
    "coll3_length=65\n",
    "channel3_length=65\n",
    "coll3_inner_radius=colimator_front_end_from_center+(0.*length_of_each_part)\n",
    "coll3_outer_radius=coll3_length+coll3_inner_radius\n",
    "\n",
    "\n",
    "coll3_height_detector=(coll1_height_detector/coll1_length_fr_center)*coll3_outer_radius\n",
    "coll3_width_detector=(coll1_width_detector/coll1_length_fr_center)*coll3_outer_radius\n",
    "\n",
    "\n",
    "coll3 = Collimator_geom()\n",
    "coll3.set_constraints(max_coll_height_detector=coll3_height_detector, \n",
    "                      max_coll_width_detector=coll3_width_detector,\n",
    "                      min_channel_wall_thickness=min_channel_wall_thickness,\n",
    "                      max_coll_length=coll3_length, min_channel_size=3.,\n",
    "                      collimator_front_end_from_center=coll3_inner_radius,\n",
    "                      horizontal_odd_blades = False,\n",
    "                      vertical_odd_blades = False,\n",
    "                      collimator_parts=False,\n",
    "                      no_right_border= True\n",
    "                       )\n",
    "\n",
    "\n",
    "coll3_R = Collimator_geom()\n",
    "coll3_R.set_constraints(max_coll_height_detector=coll3_height_detector, \n",
    "                      max_coll_width_detector=coll3_width_detector,\n",
    "                      min_channel_wall_thickness=min_channel_wall_thickness,\n",
    "                      max_coll_length=coll3_length, min_channel_size=3.,\n",
    "                      collimator_front_end_from_center=coll3_inner_radius,\n",
    "                      horizontal_odd_blades = False,\n",
    "                      vertical_odd_blades = False,\n",
    "                      collimator_parts=False,\n",
    "                      no_right_border= False\n",
    "                       )\n",
    "\n",
    "\n",
    "print (coll3.Vertical_number_channels(channel3_length))\n",
    "print (coll3.Horizontal_number_channels(channel3_length))\n",
    "\n",
    "\n",
    "coll3.set_parameters(vertical_number_channels=6.,horizontal_number_channels=2.,channel_length =channel3_length)\n",
    "coll3_R.set_parameters(vertical_number_channels=6.,horizontal_number_channels=2.,channel_length =channel3_length)\n",
    "\n",
    "print ('vertical channel angle :' ,coll3.vertical_channel_angle)\n",
    "print ('horizontal channel angle :' ,coll3.horizontal_channel_angle)\n",
    "\n",
    "col_first = coll3.gen_one_col(collimator_Nosupport=True)\n",
    "coli_first_right = coll3_R.gen_collimators(detector_angles=[-(90+50)],multiple_collimator=False, collimator_Nosupport=True)\n"
   ]
  },
  {
   "cell_type": "code",
   "execution_count": 34,
   "metadata": {},
   "outputs": [],
   "source": [
    "# both=operations.unite(operations.unite(coli1, coli2), coli3)\n",
    "both= operations.unite(operations.unite\n",
    "                       (operations.unite(operations.unite(operations.unite(colilast_left, col_first), colilast_right), \n",
    "                        coli_first_right), coli_middle_left), coli_middle_right)\n",
    "# both=operations.unite(coli_middle, coli2R)\n",
    "# both=operations.unite(operations.unite(operations.unite(coli2, coli3), coli2R), coli3R)\n",
    "file='last_right'\n",
    "filename='%s.xml'%(file)\n",
    "outputfile=os.path.join(savepath, filename)\n",
    "with open (outputfile,'wt') as file_h:\n",
    "    weave(colilast_right,file_h, print_docs = False)"
   ]
  },
  {
   "cell_type": "code",
   "execution_count": 35,
   "metadata": {},
   "outputs": [],
   "source": [
    "p = SCADGen.Parser.Parser(outputfile)\n",
    "p.createSCAD()\n",
    "test = p.rootelems[0]"
   ]
  },
  {
   "cell_type": "code",
   "execution_count": 36,
   "metadata": {},
   "outputs": [],
   "source": [
    "cadFile_name='%s.scad'%(file)\n",
    "cad_file_path=os.path.abspath(os.path.join(savepath, cadFile_name))"
   ]
  },
  {
   "cell_type": "code",
   "execution_count": 37,
   "metadata": {},
   "outputs": [
    {
     "data": {
      "text/plain": [
       "'/home/fi0/Collimator_3D/c3dp/figures/last_right.scad'"
      ]
     },
     "execution_count": 37,
     "metadata": {},
     "output_type": "execute_result"
    }
   ],
   "source": [
    "cad_file_path"
   ]
  },
  {
   "cell_type": "code",
   "execution_count": null,
   "metadata": {},
   "outputs": [],
   "source": [
    "!vglrun openscad {cad_file_path}"
   ]
  },
  {
   "cell_type": "code",
   "execution_count": null,
   "metadata": {
    "collapsed": true
   },
   "outputs": [],
   "source": []
  },
  {
   "cell_type": "code",
   "execution_count": null,
   "metadata": {
    "collapsed": true
   },
   "outputs": [],
   "source": []
  }
 ],
 "metadata": {
  "kernelspec": {
   "display_name": "mcvine",
   "language": "python",
   "name": "mcvine"
  },
  "language_info": {
   "codemirror_mode": {
    "name": "ipython",
    "version": 2
   },
   "file_extension": ".py",
   "mimetype": "text/x-python",
   "name": "python",
   "nbconvert_exporter": "python",
   "pygments_lexer": "ipython2",
   "version": "2.7.15"
  }
 },
 "nbformat": 4,
 "nbformat_minor": 2
}
