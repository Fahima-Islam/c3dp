{
 "cells": [
  {
   "cell_type": "code",
   "execution_count": 4,
   "metadata": {},
   "outputs": [],
   "source": [
    "import sys, os\n",
    "import numpy as np"
   ]
  },
  {
   "cell_type": "code",
   "execution_count": 5,
   "metadata": {},
   "outputs": [],
   "source": [
    "parent_dir = os.path.abspath(os.pardir)\n",
    "libpath = os.path.join(parent_dir, 'c3dp_source')\n",
    "\n",
    "if not libpath in sys.path:\n",
    "    sys.path.insert(0, libpath)"
   ]
  },
  {
   "cell_type": "code",
   "execution_count": 6,
   "metadata": {},
   "outputs": [],
   "source": [
    "import Diffraction_peaks as diff"
   ]
  },
  {
   "cell_type": "code",
   "execution_count": 11,
   "metadata": {},
   "outputs": [],
   "source": [
    "cif_file_name = 'Fe3Ni_seat.cif'    #'diamond.cif'\n",
    "sample_name = 'seat'     #'anvil'\n",
    "significant_component = 'Fe'  #'C'\n",
    "Temperature = 300"
   ]
  },
  {
   "cell_type": "code",
   "execution_count": 12,
   "metadata": {},
   "outputs": [
    {
     "data": {
      "text/plain": [
       "()"
      ]
     },
     "execution_count": 12,
     "metadata": {},
     "output_type": "execute_result"
    }
   ],
   "source": [
    "cif_file_path=os.path.join(parent_dir, 'CIF_file/{cif_file_name}'.format(cif_file_name=cif_file_name))\n",
    "\n",
    "saved_sample_name=os.path.join(parent_dir, 'sample/{sample_name}'.format(sample_name=sample_name))\n",
    "\n",
    "with open('bem.conf', 'wt') as s:\n",
    "    s.write('''DebyeTemperatures:\n",
    "                {significant_component}: {Temperature}'''.format(significant_component=significant_component,\n",
    "                                                                 Temperature=Temperature))\n",
    "\n",
    "diff.diffraction(cif_file_path, saved_sample_name)"
   ]
  },
  {
   "cell_type": "code",
   "execution_count": null,
   "metadata": {},
   "outputs": [],
   "source": []
  }
 ],
 "metadata": {
  "kernelspec": {
   "display_name": "mcvine",
   "language": "python",
   "name": "mcvine"
  },
  "language_info": {
   "codemirror_mode": {
    "name": "ipython",
    "version": 2
   },
   "file_extension": ".py",
   "mimetype": "text/x-python",
   "name": "python",
   "nbconvert_exporter": "python",
   "pygments_lexer": "ipython2",
   "version": "2.7.15"
  }
 },
 "nbformat": 4,
 "nbformat_minor": 2
}
