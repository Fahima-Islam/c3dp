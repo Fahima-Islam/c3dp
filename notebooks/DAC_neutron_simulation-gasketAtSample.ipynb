{
 "cells": [
  {
   "cell_type": "code",
   "execution_count": 1,
   "metadata": {
    "collapsed": true
   },
   "outputs": [],
   "source": [
    "import sys, os\n",
    "import numpy as np"
   ]
  },
  {
   "cell_type": "code",
   "execution_count": 2,
   "metadata": {
    "collapsed": true
   },
   "outputs": [],
   "source": [
    "parent_dir = os.path.abspath(os.pardir)\n",
    "libpath = os.path.join(parent_dir, 'c3dp_source')\n",
    "\n",
    "if not libpath in sys.path:\n",
    "    sys.path.insert(0, libpath)"
   ]
  },
  {
   "cell_type": "code",
   "execution_count": 3,
   "metadata": {},
   "outputs": [
    {
     "name": "stderr",
     "output_type": "stream",
     "text": [
      "/home/fi0/anaconda2/envs/mcvine/lib/python2.7/site-packages/h5py/__init__.py:36: FutureWarning: Conversion of the second argument of issubdtype from `float` to `np.floating` is deprecated. In future, it will be treated as `np.float64 == np.dtype(float).type`.\n",
      "  from ._conv import register_converters as _register_converters\n",
      "/home/fi0/anaconda2/envs/mcvine/lib/python2.7/site-packages/mantid/kernel/__init__.py:17: RuntimeWarning: to-Python converter for std::vector<int, std::allocator<int> > already registered; second conversion method ignored.\n",
      "  from ._kernel import *\n",
      "/home/fi0/anaconda2/envs/mcvine/lib/python2.7/site-packages/mantid/kernel/__init__.py:17: RuntimeWarning: to-Python converter for std::vector<double, std::allocator<double> > already registered; second conversion method ignored.\n",
      "  from ._kernel import *\n"
     ]
    }
   ],
   "source": [
    "import optimization_mantidReduction as opt\n",
    "from c3dp.instrument.sampleassembly import makeSAXML"
   ]
  },
  {
   "cell_type": "code",
   "execution_count": 4,
   "metadata": {
    "collapsed": true
   },
   "outputs": [],
   "source": [
    "sample_assembly_fileName = 'gasket_sample'"
   ]
  },
  {
   "cell_type": "markdown",
   "metadata": {},
   "source": [
    "Three files are needed to make the sampleassembly file:\n",
    "    Geometry file (.xml file), \n",
    "    unit cell information (.cif file) and \n",
    "    scattering kernels file (name-scatterer.xml file) which defines the scattering formula or diffraction peaks"
   ]
  },
  {
   "cell_type": "code",
   "execution_count": 5,
   "metadata": {},
   "outputs": [
    {
     "data": {
      "text/plain": [
       "()"
      ]
     },
     "execution_count": 5,
     "metadata": {},
     "output_type": "execute_result"
    }
   ],
   "source": [
    "# scatterer = {('anvil', 'shapeAnvil', 'anvil', 'C', 'cif'),\n",
    "#             ('gasket_sample', 'shapeGasket', 'gasket_at_sample', 'Fe3Cr', 'cif'),\n",
    "#             ('gasket_anvil', 'shapeGasket2', 'gasket_at_anvil', 'Al', 'xyz'),\n",
    "#             ('seat_piston', 'shapeSP', 'vision_seat_piston', 'Fe3Ni', 'cif'),\n",
    "#             ('bar', 'shapeBar', 'bar', 'Cu', 'cif' ),\n",
    "#             ('sample', 'shapeSample', 'sample_dac', 'Si', 'xyz')\n",
    "             \n",
    "#             }\n",
    "scatterer = {('gasket_sample', 'shapeGasket', 'gasket_at_sample', 'Fe3Cr', 'cif')\n",
    "             \n",
    "            }\n",
    "\n",
    "makeSAXML(sample_assembly_fileName, scatterer)"
   ]
  },
  {
   "cell_type": "code",
   "execution_count": 6,
   "metadata": {
    "collapsed": true
   },
   "outputs": [],
   "source": [
    "cell=opt.PresureCell()\n",
    "cell.parameters(ncount=1e6,source_file='Neutrons_mcvine.dat', \n",
    "                sampleassembly_fileName=sample_assembly_fileName, sourceTosample_z=0.02)"
   ]
  },
  {
   "cell_type": "code",
   "execution_count": 9,
   "metadata": {},
   "outputs": [
    {
     "data": {
      "image/png": "[encoded data removed]",
      "text/plain": [
       "<Figure size 432x288 with 1 Axes>"
      ]
     },
     "metadata": {},
     "output_type": "display_data"
    },
    {
     "name": "stdout",
     "output_type": "stream",
     "text": [
      "CPU times: user 2min 10s, sys: 1min 17s, total: 3min 27s\n",
      "Wall time: 1min 53s\n"
     ]
    }
   ],
   "source": [
    "%%time\n",
    "diffraction_pattern_DAC = cell.diffraction_pattern_calculation ()"
   ]
  },
  {
   "cell_type": "code",
   "execution_count": null,
   "metadata": {
    "collapsed": true
   },
   "outputs": [],
   "source": []
  },
  {
   "cell_type": "code",
   "execution_count": null,
   "metadata": {
    "collapsed": true
   },
   "outputs": [],
   "source": []
  }
 ],
 "metadata": {
  "kernelspec": {
   "display_name": "mcvine",
   "language": "python",
   "name": "mcvine"
  },
  "language_info": {
   "codemirror_mode": {
    "name": "ipython",
    "version": 2
   },
   "file_extension": ".py",
   "mimetype": "text/x-python",
   "name": "python",
   "nbconvert_exporter": "python",
   "pygments_lexer": "ipython2",
   "version": "2.7.15"
  }
 },
 "nbformat": 4,
 "nbformat_minor": 2
}
