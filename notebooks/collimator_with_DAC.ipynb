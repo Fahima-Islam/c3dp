{
 "cells": [
  {
   "cell_type": "code",
   "execution_count": 1,
   "metadata": {},
   "outputs": [],
   "source": [
    "import os, sys\n",
    "# import mcvine modules\n",
    "from instrument.geometry.pml import weave\n",
    "from instrument.geometry import  operations"
   ]
  },
  {
   "cell_type": "code",
   "execution_count": 5,
   "metadata": {},
   "outputs": [],
   "source": [
    "thisdir = os.path.abspath(os.path.dirname(\"__file__\"))\n",
    "libpath = os.path.join(thisdir, '../c3dp_source')\n",
    "if not libpath in sys.path:\n",
    "    sys.path.insert(0, libpath)"
   ]
  },
  {
   "cell_type": "code",
   "execution_count": 6,
   "metadata": {},
   "outputs": [],
   "source": [
    "import collimator_support as colli_original"
   ]
  },
  {
   "cell_type": "code",
   "execution_count": 7,
   "metadata": {},
   "outputs": [],
   "source": [
    "import SCADGen.Parser\n",
    "from create_collimator_geometry import Collimator_geom\n",
    "from c3dp.instrument.cellgeometry.clampcell_geo import Clampcell\n",
    "from c3dp.instrument.cellgeometry.DAC_geo import DAC"
   ]
  },
  {
   "cell_type": "code",
   "execution_count": 8,
   "metadata": {},
   "outputs": [],
   "source": [
    "clampcell=Clampcell(total_height=True)\n",
    "outer_body=clampcell.outer_body()\n",
    "inner_sleeve=clampcell.inner_sleeve()\n",
    "sample=clampcell.sample()\n",
    "\n",
    "cell_sample_assembly=operations.unite(operations.unite(outer_body, sample), inner_sleeve)"
   ]
  },
  {
   "cell_type": "code",
   "execution_count": 9,
   "metadata": {},
   "outputs": [],
   "source": [
    "dac=DAC()\n",
    "anvil=dac.anvil()\n",
    "\n",
    "# gasket=dac.gasket()\n",
    "# gasket_holder=dac.gasket_holder()\n",
    "sorrounding_gasket=dac.sorrounding_gasket()\n",
    "\n",
    "seat=dac.seat()\n",
    "piston=dac.piston()\n",
    "seat_pistion=dac.seat_piston()\n",
    "bar=dac.body_bar()\n",
    "bar=dac.body_bar_rotated()\n",
    "\n",
    "dac_cell=operations.unite(operations.unite(operations.unite(anvil,sorrounding_gasket),\n",
    "                    seat_pistion), bar)\n",
    "# dac_cell_beam= operations.rotate (dac_cell, transversal=1, angle='%s *degree' %(90))"
   ]
  },
  {
   "cell_type": "code",
   "execution_count": 10,
   "metadata": {},
   "outputs": [
    {
     "name": "stdout",
     "output_type": "stream",
     "text": [
      "3.0\n"
     ]
    }
   ],
   "source": [
    "collimator_fr_center=dac.gasket_diameter/2.\n",
    "print (collimator_fr_center)"
   ]
  },
  {
   "cell_type": "code",
   "execution_count": 8,
   "metadata": {
    "collapsed": true
   },
   "outputs": [],
   "source": [
    "scad_flag = True  ########CHANGE CAD FLAG HERE\n",
    "\n",
    "if scad_flag is True:\n",
    "    samplepath = os.path.join(thisdir, '../figures')\n",
    "else:\n",
    "    samplepath = os.path.join(thisdir, '../sample')"
   ]
  },
  {
   "cell_type": "code",
   "execution_count": 9,
   "metadata": {},
   "outputs": [
    {
     "name": "stdout",
     "output_type": "stream",
     "text": [
      "119.56781044332605\n"
     ]
    }
   ],
   "source": [
    "colli_height=dac.pavilion_total_triangle_height()+dac.girdle_height+dac.seat_skirt_height+dac.seat_shaft_height+dac.piston_shaft_height+20\n",
    "collimator_height=2*colli_height\n",
    "\n",
    "print (collimator_height)"
   ]
  },
  {
   "cell_type": "code",
   "execution_count": 12,
   "metadata": {
    "collapsed": true
   },
   "outputs": [],
   "source": [
    "for coll_length in [collimator_height]: #100, 230,380\n",
    "\n",
    "\n",
    "    channel_length=coll_length-15. #32, 17\n",
    "\n",
    "    min_channel_wall_thickness=1.\n",
    "\n",
    "    coll = colli_original.Collimator_geom()\n",
    "#     coll = Collimator_geom()\n",
    "    coll.set_constraints(max_coll_height_detector=collimator_height, max_coll_width_detector=collimator_height,\n",
    "                        min_channel_wall_thickness=min_channel_wall_thickness,\n",
    "                        max_coll_length=coll_length, min_channel_size=3.,\n",
    "                         truss_base_thickness=10., trass_final_height_factor=0.34,\n",
    "                         truss_blade_length=10,touch_to_halfcircle=3,\n",
    "                         SNAP_acceptance_angle=False,\n",
    "                        collimator_front_end_from_center=collimator_fr_center)\n",
    "\n",
    "\n",
    "    coll.set_parameters(number_channels=5.,channel_length =channel_length)\n",
    "\n",
    "    filename = 'coll_geometry_{coll_length}_{coll_height}_{coll_width}_{channel_length}_{wall_thickness}.xml'.\\\n",
    "        format(coll_length=coll_length, coll_height=coll.max_coll_height_detector, coll_width=coll.max_coll_height_detector, channel_length=channel_length, wall_thickness=min_channel_wall_thickness)\n",
    "\n",
    "    outputfile = os.path.join(samplepath, filename)\n",
    "\n",
    "\n",
    "    supports=coll.support()\n",
    "\n",
    "    truss=coll.support_design()\n",
    "\n",
    "    coli = coll.gen_one_col(collimator_Nosupport=True)\n",
    "    \n",
    "    coli_transversal = coll.gen_collimators(detector_angles=[90], \n",
    "                            multiple_collimator=False,collimator_Nosupport=False)\n",
    "\n",
    "#     collimator=coll.gen_collimators_xml(multiple_collimator=False, scad_flag=scad_flag,detector_angles=[0], collimator_Nosupport=False, coll_file=outputfile)"
   ]
  },
  {
   "cell_type": "code",
   "execution_count": 12,
   "metadata": {
    "collapsed": true
   },
   "outputs": [],
   "source": [
    "# both=operations.unite(dac_cell_beam, coli_transversal)\n",
    "# both= truss\n",
    "# both=supports\n",
    "# both=operations.unite(anvil, sorrounding_gasket)\n",
    "both=operations.unite(dac_cell, coli)\n",
    "file='dac_cell_coli'\n",
    "filename='%s.xml'%(file)\n",
    "outputfile=os.path.join(samplepath, filename)\n",
    "with open (outputfile,'wt') as file_h:\n",
    "    weave(both,file_h, print_docs = False)"
   ]
  },
  {
   "cell_type": "code",
   "execution_count": 13,
   "metadata": {
    "collapsed": true
   },
   "outputs": [],
   "source": [
    "p = SCADGen.Parser.Parser(outputfile)\n",
    "p.createSCAD()\n",
    "test = p.rootelems[0]"
   ]
  },
  {
   "cell_type": "code",
   "execution_count": 14,
   "metadata": {
    "collapsed": true
   },
   "outputs": [],
   "source": [
    "cadFile_name='%s.scad'%(file)\n",
    "cad_file_path=os.path.abspath(os.path.join(samplepath, cadFile_name))"
   ]
  },
  {
   "cell_type": "code",
   "execution_count": 15,
   "metadata": {},
   "outputs": [
    {
     "data": {
      "text/plain": [
       "'/home/fi0/Collimator_3D/c3dp/figures/dac_cell_coli.scad'"
      ]
     },
     "execution_count": 15,
     "metadata": {},
     "output_type": "execute_result"
    }
   ],
   "source": [
    "cad_file_path"
   ]
  },
  {
   "cell_type": "code",
   "execution_count": null,
   "metadata": {
    "collapsed": true
   },
   "outputs": [],
   "source": [
    "!vglrun openscad {cad_file_path}"
   ]
  },
  {
   "cell_type": "code",
   "execution_count": null,
   "metadata": {
    "collapsed": true
   },
   "outputs": [],
   "source": []
  }
 ],
 "metadata": {
  "kernelspec": {
   "display_name": "mcvine",
   "language": "python",
   "name": "mcvine"
  },
  "language_info": {
   "codemirror_mode": {
    "name": "ipython",
    "version": 2
   },
   "file_extension": ".py",
   "mimetype": "text/x-python",
   "name": "python",
   "nbconvert_exporter": "python",
   "pygments_lexer": "ipython2",
   "version": "2.7.15"
  }
 },
 "nbformat": 4,
 "nbformat_minor": 2
}
