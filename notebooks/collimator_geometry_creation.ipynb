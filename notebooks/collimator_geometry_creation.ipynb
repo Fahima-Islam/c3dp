{
 "cells": [
  {
   "cell_type": "code",
   "execution_count": 1,
   "metadata": {
    "collapsed": true
   },
   "outputs": [],
   "source": [
    "import os, sys\n",
    "# import mcvine modules\n",
    "from instrument.geometry.pml import weave\n",
    "from instrument.geometry import  operations"
   ]
  },
  {
   "cell_type": "code",
   "execution_count": 2,
   "metadata": {
    "collapsed": true
   },
   "outputs": [],
   "source": [
    "thisdir = os.path.abspath(os.path.dirname(\"__file__\"))\n",
    "libpath = os.path.join(thisdir, '../c3dp_source')\n",
    "if not libpath in sys.path:\n",
    "    sys.path.insert(0, libpath)"
   ]
  },
  {
   "cell_type": "code",
   "execution_count": 3,
   "metadata": {},
   "outputs": [],
   "source": [
    "import collimator_support as colli_original"
   ]
  },
  {
   "cell_type": "code",
   "execution_count": 4,
   "metadata": {},
   "outputs": [],
   "source": [
    "import SCADGen.Parser\n",
    "from create_collimator_geometry import Collimator_geom\n",
    "from c3dp.instrument.cellgeometry.clampcell_geo import Clampcell\n",
    "from c3dp.instrument.cellgeometry.DAC_geo import DAC"
   ]
  },
  {
   "cell_type": "code",
   "execution_count": 5,
   "metadata": {
    "collapsed": true
   },
   "outputs": [],
   "source": [
    "clampcell=Clampcell(total_height=True)\n",
    "outer_body=clampcell.outer_body()\n",
    "inner_sleeve=clampcell.inner_sleeve()\n",
    "sample=clampcell.sample()\n",
    "\n",
    "cell_sample_assembly=operations.unite(operations.unite(outer_body, sample), inner_sleeve)"
   ]
  },
  {
   "cell_type": "code",
   "execution_count": 7,
   "metadata": {
    "collapsed": true
   },
   "outputs": [],
   "source": [
    "scad_flag = True  ########CHANGE CAD FLAG HERE\n",
    "\n",
    "if scad_flag is True:\n",
    "    samplepath = os.path.join(thisdir, '../figures')\n",
    "else:\n",
    "    samplepath = os.path.join(thisdir, '../sample')"
   ]
  },
  {
   "cell_type": "code",
   "execution_count": 9,
   "metadata": {},
   "outputs": [],
   "source": [
    "for coll_length in [195.]: #100, 230,380\n",
    "\n",
    "\n",
    "    channel_length=195. #32, 17\n",
    "\n",
    "    min_channel_wall_thickness=1.\n",
    "\n",
    "#     coll = colli_original.Collimator_geom()\n",
    "    coll = Collimator_geom()\n",
    "    coll.set_constraints(max_coll_height_detector=230., max_coll_width_detector=230.,\n",
    "                        min_channel_wall_thickness=min_channel_wall_thickness,\n",
    "                        max_coll_length=coll_length, min_channel_size=3.,\n",
    "                         truss_base_thickness=30., trass_final_height_factor=0.45,\n",
    "                         touch_to_halfcircle=6 ,SNAP_acceptance_angle=False)\n",
    "\n",
    "\n",
    "    coll.set_parameters(number_channels=3.,channel_length =channel_length)\n",
    "\n",
    "    filename = 'coll_geometry_{coll_length}_{coll_height}_{coll_width}_{channel_length}_{wall_thickness}.xml'.\\\n",
    "        format(coll_length=coll_length, coll_height=coll.max_coll_height_detector, coll_width=coll.max_coll_height_detector, channel_length=channel_length, wall_thickness=min_channel_wall_thickness)\n",
    "\n",
    "    outputfile = os.path.join(samplepath, filename)\n",
    "\n",
    "\n",
    "    supports=coll.support()\n",
    "\n",
    "    truss=coll.support_design()\n",
    "\n",
    "    coli = coll.gen_one_col(collimator_Nosupport=False)\n",
    "\n",
    "#     collimator=coll.gen_collimators_xml(multiple_collimator=False, scad_flag=scad_flag,detector_angles=[0], collimator_Nosupport=False, coll_file=outputfile)\n",
    "\n",
    "\n",
    "\n",
    "both=operations.unite(cell_sample_assembly, coli)\n",
    "# both= truss\n",
    "# both=supports\n",
    "file='colli_anvil'\n",
    "filename='%s.xml'%(file)\n",
    "outputfile=os.path.join(samplepath, filename)\n",
    "with open (outputfile,'wt') as file_h:\n",
    "    weave(both,file_h, print_docs = False)\n"
   ]
  },
  {
   "cell_type": "code",
   "execution_count": 10,
   "metadata": {
    "collapsed": true
   },
   "outputs": [],
   "source": [
    "p = SCADGen.Parser.Parser(outputfile)\n",
    "p.createSCAD()\n",
    "test = p.rootelems[0]"
   ]
  },
  {
   "cell_type": "code",
   "execution_count": 11,
   "metadata": {
    "collapsed": true
   },
   "outputs": [],
   "source": [
    "cadFile_name='%s.scad'%(file)\n",
    "cad_file_path=os.path.abspath(os.path.join(samplepath, cadFile_name))"
   ]
  },
  {
   "cell_type": "code",
   "execution_count": 12,
   "metadata": {},
   "outputs": [
    {
     "data": {
      "text/plain": [
       "'/home/fi0/Collimator_3D/c3dp/figures/colli_anvil.scad'"
      ]
     },
     "execution_count": 12,
     "metadata": {},
     "output_type": "execute_result"
    }
   ],
   "source": [
    "cad_file_path"
   ]
  },
  {
   "cell_type": "code",
   "execution_count": 13,
   "metadata": {
    "collapsed": true
   },
   "outputs": [],
   "source": [
    "!vglrun openscad {cad_file_path}"
   ]
  },
  {
   "cell_type": "code",
   "execution_count": 6,
   "metadata": {
    "collapsed": true
   },
   "outputs": [],
   "source": []
  },
  {
   "cell_type": "code",
   "execution_count": 11,
   "metadata": {},
   "outputs": [
    {
     "name": "stdout",
     "output_type": "stream",
     "text": [
      "/bin/sh: 1: Syntax error: \"(\" unexpected\r\n"
     ]
    }
   ],
   "source": []
  },
  {
   "cell_type": "code",
   "execution_count": 5,
   "metadata": {},
   "outputs": [
    {
     "ename": "SyntaxError",
     "evalue": "only named arguments may follow *expression (geom.py, line 40)",
     "output_type": "error",
     "traceback": [
      "\u001b[0;36m  File \u001b[0;32m\"/home/fi0/Collimator_3D/c3dp/notebooks/../c3dp/cadquery/occ_impl/geom.py\"\u001b[0;36m, line \u001b[0;32m40\u001b[0m\n\u001b[0;31m    fV = gp_Vec(*arg,0)\u001b[0m\n\u001b[0;31mSyntaxError\u001b[0m\u001b[0;31m:\u001b[0m only named arguments may follow *expression\n"
     ]
    }
   ],
   "source": [
    "import cadquery as cq\n",
    "from cq_jupyter import Assembly, Part, Edges, Faces, display, exportSTL"
   ]
  },
  {
   "cell_type": "code",
   "execution_count": null,
   "metadata": {
    "collapsed": true
   },
   "outputs": [],
   "source": []
  }
 ],
 "metadata": {
  "kernelspec": {
   "display_name": "mcvine",
   "language": "python",
   "name": "mcvine"
  },
  "language_info": {
   "codemirror_mode": {
    "name": "ipython",
    "version": 2
   },
   "file_extension": ".py",
   "mimetype": "text/x-python",
   "name": "python",
   "nbconvert_exporter": "python",
   "pygments_lexer": "ipython2",
   "version": "2.7.15"
  }
 },
 "nbformat": 4,
 "nbformat_minor": 2
}
