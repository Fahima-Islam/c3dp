{
 "cells": [
  {
   "cell_type": "code",
   "execution_count": 7,
   "metadata": {
    "collapsed": true
   },
   "outputs": [],
   "source": [
    "import mcvine \n",
    "from instrument.geometry.pml import weave\n",
    "from instrument.geometry import  operations,shapes\n",
    "import math"
   ]
  },
  {
   "cell_type": "code",
   "execution_count": 8,
   "metadata": {
    "collapsed": true
   },
   "outputs": [],
   "source": [
    "import os, sys\n",
    "parent_dir = os.path.abspath(os.pardir)\n",
    "libpath = os.path.join(parent_dir, 'c3dp_source')\n",
    "figures_path = os.path.join (parent_dir, 'figures')\n",
    "sample_path = os.path.join (parent_dir, 'sample')\n",
    "if not libpath in sys.path:\n",
    "    sys.path.insert(0, libpath)\n",
    "# sys.path.insert(0, '/home/fi0/python3/lib/python3.5/site-packages')"
   ]
  },
  {
   "cell_type": "code",
   "execution_count": 9,
   "metadata": {
    "collapsed": true
   },
   "outputs": [],
   "source": [
    "import SCADGen.Parser\n",
    "from collimator_zigzagBlade import Collimator_geom\n",
    "# import viewscad\n",
    "# import solid"
   ]
  },
  {
   "cell_type": "code",
   "execution_count": 10,
   "metadata": {
    "collapsed": true
   },
   "outputs": [],
   "source": [
    "scad_flag = True  ########CHANGE CAD FLAG HERE\n",
    "\n",
    "if scad_flag is True:\n",
    "    savepath = figures_path\n",
    "else:\n",
    "    savepath = sample_path"
   ]
  },
  {
   "cell_type": "code",
   "execution_count": 11,
   "metadata": {},
   "outputs": [
    {
     "name": "stdout",
     "output_type": "stream",
     "text": [
      "19\n"
     ]
    }
   ],
   "source": [
    "def is_prime(n):\n",
    "    for i in range(2, n):\n",
    "        if n % i == 0:\n",
    "            break\n",
    "    else:\n",
    "        return n\n",
    "\n",
    "def find_previous_prime(n):\n",
    "    return find_next_prime(n, offset=-1)\n",
    "\n",
    "def find_next_prime(n, offset = 1):\n",
    "    p = n\n",
    "    while p < 2 * n:\n",
    "        p += 1 * offset\n",
    "        if is_prime(p):\n",
    "            break\n",
    "    return p\n",
    "\n",
    "### examples ####\n",
    "number_ch =20\n",
    "ch=is_prime (number_ch)\n",
    "if ch is None :\n",
    "    ch=find_previous_prime(number_ch)\n",
    "print ch"
   ]
  },
  {
   "cell_type": "code",
   "execution_count": 12,
   "metadata": {
    "collapsed": true
   },
   "outputs": [],
   "source": [
    "colimator_front_end_from_center= 39. #though the cell diameter is 3 mm, I can not put the collimator at 3 mm because\n",
    "                                   #if I put at 3 mm, there will be no blade (only full of channels as the minimum\n",
    "                                   # channel thickness is 3 mm) \n",
    "length_of_each_part=60."
   ]
  },
  {
   "cell_type": "code",
   "execution_count": 13,
   "metadata": {},
   "outputs": [
    {
     "name": "stdout",
     "output_type": "stream",
     "text": [
      "('last collimator front end from center', 159.0)\n",
      "('last collimator back end from center', 219.0)\n"
     ]
    }
   ],
   "source": [
    "########################### LAST PART COMPONENTS ##############################\n",
    "coll1_length=length_of_each_part\n",
    "channel1_length=length_of_each_part\n",
    "min_channel_wall_thickness=1.\n",
    "minimum_channel_size = 3.\n",
    "coll1_height_detector=150.\n",
    "coll1_width_detector=60*2.\n",
    "\n",
    "coll1_height_detector_right=coll1_height_detector+20.\n",
    "\n",
    "\n",
    "coll1_front_end_from_center=colimator_front_end_from_center+(2.*length_of_each_part)\n",
    "print ('last collimator front end from center', coll1_front_end_from_center)\n",
    "coll1_length_fr_center=coll1_front_end_from_center+coll1_length\n",
    "print ('last collimator back end from center', coll1_length_fr_center)"
   ]
  },
  {
   "cell_type": "code",
   "execution_count": 14,
   "metadata": {},
   "outputs": [
    {
     "name": "stdout",
     "output_type": "stream",
     "text": [
      "('wall angular thickness', 0.2616241094094413)\n",
      "('channel angular thickness', 0.7848614186817404)\n"
     ]
    }
   ],
   "source": [
    "import numpy as np\n",
    "wall_angular_thickness=2*(np.rad2deg(np.arctan((min_channel_wall_thickness/2.)/coll1_length_fr_center)))\n",
    "print ('wall angular thickness', wall_angular_thickness)\n",
    "\n",
    "channel_angular_thickness=2*(np.rad2deg(np.arctan((minimum_channel_size/2.)/coll1_length_fr_center)))\n",
    "print ('channel angular thickness', channel_angular_thickness)"
   ]
  },
  {
   "cell_type": "code",
   "execution_count": 16,
   "metadata": {},
   "outputs": [
    {
     "name": "stdout",
     "output_type": "stream",
     "text": [
      "('inner radius', 39.0)\n",
      "('outer radius', 99.0)\n",
      "('minimum channel gap at big end', 7.615384615384616)\n",
      "('height detector', 67.80821917808218)\n",
      "('width detector', 54.24657534246575)\n",
      "('horizontal acceptance angle', 30.64302014972959)\n",
      "('vertical acceptance angle', 37.80915168522331)\n",
      "('vertical #channels', 8.0)\n",
      "('horizontal # channels', 6.0)\n",
      "('modified vertical #channels', 7)\n",
      "('modified horizontal # channels', 5)\n",
      "('vertical channel angle :', 5.4013073836033305)\n",
      "('horizontal channel angle :', 6.128604029945918)\n"
     ]
    }
   ],
   "source": [
    "########################### FIRST PART ##############################\n",
    "coll3_length=length_of_each_part\n",
    "channel3_length=length_of_each_part\n",
    "coll3_inner_radius=colimator_front_end_from_center+(0.*length_of_each_part)\n",
    "print ('inner radius',coll3_inner_radius)\n",
    "coll3_outer_radius=coll3_length+coll3_inner_radius\n",
    "print ('outer radius', coll3_outer_radius)\n",
    "\n",
    "\n",
    "coll3_channel_gap_at_detector =  (minimum_channel_size/coll3_inner_radius)*coll3_outer_radius\n",
    "\n",
    "print ('minimum channel gap at big end', coll3_channel_gap_at_detector)\n",
    "\n",
    "\n",
    "coll3_height_detector=(coll1_height_detector/coll1_length_fr_center)*coll3_outer_radius\n",
    "\n",
    "coll3_height_detector_right=(coll1_height_detector_right/coll1_length_fr_center)*coll3_outer_radius\n",
    "\n",
    "print ('height detector', coll3_height_detector)\n",
    "coll3_width_detector=(coll1_width_detector/coll1_length_fr_center)*coll3_outer_radius #half part\n",
    "# coll3_width_detector=(coll1_width_detector/coll1_length_fr_center)*coll3_outer_radius*2 #full part\n",
    "print ('width detector', coll3_width_detector)\n",
    "\n",
    "vertical_odd_blades= True\n",
    "horizontal_odd_blades =True\n",
    "coll3 = Collimator_geom()\n",
    "coll3.set_constraints(max_coll_height_detector=coll3_height_detector, \n",
    "                      max_coll_width_detector=coll3_width_detector,\n",
    "                      min_channel_wall_thickness=min_channel_wall_thickness,\n",
    "                      max_coll_length=coll3_length, \n",
    "                      min_channel_size=3,\n",
    "                      collimator_front_end_from_center=coll3_inner_radius,\n",
    "#                       remove_vertical_blades_manually =True, #only full part\n",
    "#                       vertical_blade_index_list_toRemove = [7],#only full part\n",
    "#                       remove_horizontal_blades_manually = True, #only full part\n",
    "#                       horizontal_blade_index_list_toRemove = [9], #only full part\n",
    "                      collimator_parts=False,\n",
    "                      no_right_border= True,\n",
    "                      no_top_border = True,\n",
    "                      horizontal_odd_blades = False,\n",
    "                      vertical_odd_blades = False,\n",
    "                       )\n",
    "\n",
    "\n",
    "\n",
    "\n",
    "horizontal_acceptance_angle = coll3.horizontal_acceptance_angle\n",
    "print ('horizontal acceptance angle', coll3.horizontal_acceptance_angle)\n",
    "print ('vertical acceptance angle' , coll3.vertical_acceptance_angle)\n",
    "\n",
    "rotation_angle_for_right_parts = horizontal_acceptance_angle/2.\n",
    "\n",
    "fist_vertical_number_blades = math.floor (coll3.Vertical_number_channels(channel3_length))\n",
    "fist_horizontal_number_blades = math.floor(coll3.Horizontal_number_channels(channel3_length))\n",
    "\n",
    "print ('vertical #channels' , fist_vertical_number_blades)\n",
    "print ('horizontal # channels' , fist_horizontal_number_blades)\n",
    "\n",
    "# if fist_vertical_number_blades %2 ==0:\n",
    "#     fist_vertical_number_blades-=1\n",
    "    \n",
    "# if fist_horizontal_number_blades %2 ==0:\n",
    "#         fist_horizontal_number_blades-=1\n",
    "        \n",
    "number_ch_vertical =int(fist_vertical_number_blades)\n",
    "fist_vertical_number_blades=is_prime (number_ch_vertical)\n",
    "if fist_vertical_number_blades is None :\n",
    "    fist_vertical_number_blades=find_previous_prime(number_ch_vertical)\n",
    "    \n",
    "number_ch_horizontal =int(fist_horizontal_number_blades)\n",
    "fist_horizontal_number_blades=is_prime (number_ch_horizontal)\n",
    "if fist_horizontal_number_blades is None :\n",
    "    fist_horizontal_number_blades=find_previous_prime(number_ch_horizontal)\n",
    "\n",
    "        \n",
    "print ('modified vertical #channels' , fist_vertical_number_blades)\n",
    "print ('modified horizontal # channels' , fist_horizontal_number_blades)\n",
    "\n",
    "# if vertical_odd_blades:\n",
    "#     if fist_vertical_number_blades %2 != 0:\n",
    "#         fist_vertical_number_blades-= 1\n",
    "\n",
    "# else:\n",
    "#     if fist_vertical_number_blades %2 ==0:\n",
    "#         fist_vertical_number_blades-=1\n",
    "        \n",
    "# if horizontal_odd_blades:\n",
    "#     if fist_horizontal_number_blades %2 != 0:\n",
    "#         fist_horizontal_number_blades-= 1\n",
    "\n",
    "# else:\n",
    "#     if fist_horizontal_number_blades %2 ==0:\n",
    "#         fist_horizontal_number_blades-=1\n",
    "        \n",
    "\n",
    "# coll3.set_parameters(vertical_number_channels=28,horizontal_number_channels=11*2,\n",
    "#                     channel_length =channel3_length)  # the full first part\n",
    "# coll3_R.set_parameters(vertical_number_channels=28,horizontal_number_channels=11*2\n",
    "#                          ,channel_length =channel3_length)\n",
    "\n",
    "coll3.set_parameters(vertical_number_channels=fist_vertical_number_blades,horizontal_number_channels=fist_horizontal_number_blades,\n",
    "                     channel_length =channel3_length)\n",
    "\n",
    "print ('vertical channel angle :' ,coll3.vertical_channel_angle)\n",
    "print ('horizontal channel angle :' ,coll3.horizontal_channel_angle)\n",
    "\n",
    "col_first = coll3.gen_one_col(collimator_Nosupport=True)\n",
    "\n",
    "\n",
    "\n",
    "# coli_first_right = coll3_R.gen_collimators(detector_angles=[180.+ 12],multiple_collimator=False, collimator_Nosupport=True)"
   ]
  },
  {
   "cell_type": "code",
   "execution_count": 17,
   "metadata": {},
   "outputs": [
    {
     "name": "stdout",
     "output_type": "stream",
     "text": [
      "('inner radius', 99.0)\n",
      "('outer radius', 159.0)\n",
      "('minimum channel gap at big end', 4.818181818181818)\n",
      "('collimator height at detector', 108.90410958904108)\n",
      "('coll2_width_detector', 87.12328767123287)\n",
      "('channel index to remove', 2)\n",
      "('vertical # chanels', 21.778174379126114)\n",
      "('horizontal # channels', 17.650463091048447)\n",
      "('modified vertical #channels', 19)\n",
      "('modified horizontal # channels', 17)\n",
      "('vertical channel angle :', 1.9899553518538586)\n",
      "('horizontal channel angle :', 1.802530597042917)\n"
     ]
    }
   ],
   "source": [
    "########################## MIDDLE PART #########################################\n",
    "testing_distance = 0\n",
    "coll2_length=length_of_each_part\n",
    "channel2_length=length_of_each_part\n",
    "coll2_inner_radius=colimator_front_end_from_center+(1.*length_of_each_part) + testing_distance\n",
    "print ('inner radius', coll2_inner_radius)\n",
    "coll2_outer_radius=coll2_length+coll2_inner_radius\n",
    "print ('outer radius', coll2_outer_radius)\n",
    "\n",
    "coll2_channel_gap_at_detector =  (minimum_channel_size/coll2_inner_radius)*coll2_outer_radius\n",
    "\n",
    "print ('minimum channel gap at big end', coll2_channel_gap_at_detector)\n",
    "\n",
    "coll2_height_detector=(coll1_height_detector/coll1_length_fr_center)*coll2_outer_radius\n",
    "coll2_height_detector_right=(coll1_height_detector_right/coll1_length_fr_center)*coll2_outer_radius\n",
    "\n",
    "print ('collimator height at detector', coll2_height_detector)\n",
    "coll2_width_detector=(coll1_width_detector/coll1_length_fr_center)*coll2_outer_radius\n",
    "print ('coll2_width_detector', coll2_width_detector)\n",
    "\n",
    "coll2_channel_index_to_remove = int (coll3_channel_gap_at_detector/minimum_channel_size)\n",
    "print ('channel index to remove' ,coll2_channel_index_to_remove)\n",
    "\n",
    "coll2 = Collimator_geom()\n",
    "coll2.set_constraints(max_coll_height_detector=coll2_height_detector, \n",
    "                      max_coll_width_detector=coll2_width_detector,\n",
    "                      min_channel_wall_thickness=min_channel_wall_thickness,\n",
    "                      max_coll_length=coll2_length, \n",
    "                      min_channel_size=3,\n",
    "                      collimator_front_end_from_center=coll2_inner_radius,\n",
    "                      collimator_parts=True,\n",
    "                      initial_collimator_horizontal_channel_angle=0.0,\n",
    "                      initial_collimator_vertical_channel_angle= 0.0,\n",
    "#                       remove_vertical_blades_manually =True,\n",
    "#                       vertical_blade_index_list_toRemove = [6,9],\n",
    "#                       remove_horizontal_blades_manually =True,\n",
    "#                       horizontal_blade_index_list_toRemove = [2, 5, 8, 11, 14, 17],\n",
    "                      no_right_border= True,\n",
    "                      no_top_border = True,\n",
    "                      vertical_even_blades= False,\n",
    "                      horizontal_even_blades= False) \n",
    "\n",
    "\n",
    "\n",
    "middle_vertical_number_blades = math.floor (coll2.Vertical_number_channels(channel2_length))\n",
    "middle_horizontal_number_blades = math.floor(coll2.Horizontal_number_channels(channel2_length))\n",
    "\n",
    "print ('vertical # chanels', coll2.Vertical_number_channels(channel2_length))\n",
    "print ('horizontal # channels', coll2.Horizontal_number_channels(channel2_length))\n",
    "\n",
    "# if middle_vertical_number_blades %2 ==0:\n",
    "#     middle_vertical_number_blades-=1\n",
    "    \n",
    "# if middle_horizontal_number_blades %2 ==0:\n",
    "#         middle_horizontal_number_blades-=1\n",
    "\n",
    "number_ch_vertical_middle =int(middle_vertical_number_blades)\n",
    "middle_vertical_number_blades=is_prime (number_ch_vertical_middle)\n",
    "if middle_vertical_number_blades is None :\n",
    "    middle_vertical_number_blades=find_previous_prime(number_ch_vertical_middle)\n",
    "    \n",
    "number_ch_horizontal_middle =int(middle_horizontal_number_blades)\n",
    "middle_horizontal_number_blades=is_prime (number_ch_horizontal_middle)\n",
    "if middle_horizontal_number_blades is None :\n",
    "    middle_horizontal_number_blades=find_previous_prime(number_ch_horizontal_middle)\n",
    "        \n",
    "print ('modified vertical #channels' , middle_vertical_number_blades)\n",
    "print ('modified horizontal # channels' , middle_horizontal_number_blades)\n",
    "\n",
    "coll2.set_parameters(vertical_number_channels=middle_vertical_number_blades,horizontal_number_channels=middle_horizontal_number_blades, \n",
    "                     channel_length =channel2_length)\n",
    "\n",
    "\n",
    "print ('vertical channel angle :' ,coll2.vertical_channel_angle)\n",
    "print ('horizontal channel angle :' ,coll2.horizontal_channel_angle)\n",
    "\n",
    "coli_middle = coll2.gen_one_col(collimator_Nosupport=True)\n",
    "\n",
    "# print (coll1_height_detector/coll2_height_detector)"
   ]
  },
  {
   "cell_type": "code",
   "execution_count": 18,
   "metadata": {},
   "outputs": [
    {
     "name": "stdout",
     "output_type": "stream",
     "text": [
      "('channel index to remove', 1)\n",
      "('vertical # channels', 34.97542931238323)\n",
      "('horizontal # channels', 28.346385395990463)\n",
      "('modified vertical #channels', 31)\n",
      "('modified horizontal # channels', 23)\n",
      "('vertical channel angle :', 1.2196500543620423)\n",
      "('horizontal channel angle :', 1.3323052239012865)\n"
     ]
    }
   ],
   "source": [
    "#################### LAST PARTS ################################\n",
    "\n",
    "coll1_channel_index_to_remove = int (coll2_channel_gap_at_detector/minimum_channel_size)\n",
    "print ('channel index to remove' ,coll1_channel_index_to_remove)\n",
    "\n",
    "col_last_left = Collimator_geom()\n",
    "\n",
    "col_last_left.set_constraints(max_coll_height_detector=coll1_height_detector, \n",
    "                      max_coll_width_detector=coll1_width_detector,\n",
    "                      min_channel_wall_thickness=min_channel_wall_thickness,\n",
    "                      max_coll_length=coll1_length, \n",
    "                      min_channel_size=3.,\n",
    "                      collimator_front_end_from_center=coll1_front_end_from_center,\n",
    "#                       remove_horizontal_blades_manually =True,\n",
    "#                       horizontal_blade_index_list_toRemove = [2, 5, 7, 10, 12, 15, 21, 24,26,29],\n",
    "#                       remove_vertical_blades_manually =True,\n",
    "#                       vertical_blade_index_list_toRemove = [2,4,7,18,23, 24 ],\n",
    "                      collimator_parts=True,\n",
    "                      no_right_border= True,\n",
    "                      no_top_border = True,\n",
    "                      vertical_odd_blades=False, \n",
    "                      horizontal_odd_blades=False )\n",
    "\n",
    "\n",
    "\n",
    "last_vertical_number_blades = math.floor (col_last_left.Vertical_number_channels(channel1_length))\n",
    "last_horizontal_number_blades = math.floor(col_last_left.Horizontal_number_channels(channel1_length))\n",
    "\n",
    "print ('vertical # channels', col_last_left.Vertical_number_channels(channel1_length))\n",
    "print ('horizontal # channels' , col_last_left.Horizontal_number_channels(channel1_length))\n",
    "\n",
    "# if last_vertical_number_blades %2 ==0:\n",
    "#     last_vertical_number_blades-=1\n",
    "    \n",
    "# if last_horizontal_number_blades %2 ==0:\n",
    "#         last_horizontal_number_blades-=1\n",
    "\n",
    "number_ch_vertical_last =int(last_vertical_number_blades)\n",
    "last_vertical_number_blades=is_prime (number_ch_vertical_last)\n",
    "if last_vertical_number_blades is None :\n",
    "    last_vertical_number_blades=find_previous_prime(number_ch_vertical_last)\n",
    "    \n",
    "number_ch_horizontal_last =int(last_horizontal_number_blades)\n",
    "last_horizontal_number_blades=is_prime (number_ch_horizontal_last)\n",
    "if last_horizontal_number_blades is None :\n",
    "    last_horizontal_number_blades=find_previous_prime(number_ch_horizontal_last)\n",
    "\n",
    "print ('modified vertical #channels' , last_vertical_number_blades)\n",
    "print ('modified horizontal # channels' , last_horizontal_number_blades)\n",
    "\n",
    "\n",
    "col_last_left.set_parameters(vertical_number_channels=last_vertical_number_blades,horizontal_number_channels=last_horizontal_number_blades,\n",
    "                             channel_length =channel1_length)\n",
    "\n",
    "\n",
    "print ('vertical channel angle :' ,col_last_left.vertical_channel_angle)\n",
    "print ('horizontal channel angle :' ,col_last_left.horizontal_channel_angle)\n",
    "\n",
    "colilast = col_last_left.gen_one_col(collimator_Nosupport=True)\n"
   ]
  },
  {
   "cell_type": "code",
   "execution_count": 19,
   "metadata": {
    "collapsed": true
   },
   "outputs": [],
   "source": [
    "pyr_lateral_middle = shapes.pyramid(\n",
    "        thickness='%s *mm' % coll1_height_detector_right,\n",
    "        # height='%s *mm' % (height),\n",
    "        height='%s *mm' % (coll1_length_fr_center),\n",
    "        width='%s *mm' % coll1_width_detector)\n",
    "\n",
    "pyr_lateral_middle = operations.rotate(pyr_lateral_middle, transversal=1, angle='%s *degree' % (90))\n",
    "pyr_lateral_left_middle = operations.rotate(pyr_lateral_middle, vertical=\"1\",\n",
    "                                             angle='%s*deg' % (180 + 180-rotation_angle_for_right_parts-wall_angular_thickness-channel_angular_thickness-0.03)) \n",
    "\n",
    "\n",
    "pyr_lateral_right_middle = operations.rotate(pyr_lateral_middle, vertical=\"1\",\n",
    "                                             angle='%s*deg' % (180 - (180-rotation_angle_for_right_parts+wall_angular_thickness+channel_angular_thickness+0.15)))\n",
    "\n",
    "# pyr_lateral_right_last = operations.rotate(pyr_lateral, vertical=\"1\",\n",
    "#                                              angle='%s*deg' % (180 - (180-rotation_angle_for_right_parts/2.))) "
   ]
  },
  {
   "cell_type": "code",
   "execution_count": 20,
   "metadata": {},
   "outputs": [
    {
     "name": "stdout",
     "output_type": "stream",
     "text": [
      "('wall angular thickness sudo', 0.25019951294908455)\n",
      "('channel angular thickness sudo', 0.7505889969714639)\n"
     ]
    }
   ],
   "source": [
    "factor = 10\n",
    "pyr_lateral_last = shapes.pyramid(\n",
    "        thickness='%s *mm' % coll1_height_detector_right,\n",
    "        # height='%s *mm' % (height),\n",
    "        height='%s *mm' % (coll1_length_fr_center+factor),\n",
    "        width='%s *mm' % coll1_width_detector)\n",
    "\n",
    "\n",
    "wall_angular_thickness_last=2*(np.rad2deg(np.arctan((min_channel_wall_thickness/2.)/(coll1_length_fr_center+10))))\n",
    "print ('wall angular thickness sudo', wall_angular_thickness_last)\n",
    "\n",
    "channel_angular_thickness_last=2*(np.rad2deg(np.arctan((minimum_channel_size/2.)/(coll1_length_fr_center+10))))\n",
    "print ('channel angular thickness sudo', channel_angular_thickness_last)\n",
    "\n",
    "\n",
    "pyr_lateral_last = operations.rotate(pyr_lateral_last, transversal=1, angle='%s *degree' % (90))\n",
    "pyr_lateral_left_last = operations.rotate(pyr_lateral_last, vertical=\"1\",\n",
    "                                             angle='%s*deg' % (180 + 180-rotation_angle_for_right_parts+wall_angular_thickness-channel_angular_thickness+0.5))\n",
    "\n",
    "\n",
    "# pyr_lateral_right_last = operations.rotate(pyr_lateral_last, vertical=\"1\",\n",
    "#                                              angle='%s*deg' % (180 - (180-rotation_angle_for_right_parts+(wall_angular_thickness*wall_angular_thickness_last*factor)+channel_angular_thickness-0.12)))\n",
    "\n",
    "\n",
    "pyr_lateral_right_last = operations.rotate(pyr_lateral_last, vertical=\"1\",\n",
    "                                             angle='%s*deg' % (180 - (180-rotation_angle_for_right_parts+0.75)))\n",
    "\n",
    "\n",
    "# pyr_lateral_right_last = operations.rotate(pyr_lateral, vertical=\"1\",\n",
    "#                                              angle='%s*deg' % (180 - (180-rotation_angle_for_right_parts/2.))) "
   ]
  },
  {
   "cell_type": "code",
   "execution_count": 21,
   "metadata": {
    "collapsed": true
   },
   "outputs": [],
   "source": [
    "# both=operations.unite(coli_middle_left, colilast_left)\n",
    "# both= operations.unite(operations.unite\n",
    "#                        (operations.unite(operations.unite(operations.unite(colilast_left, col_first), colilast_right), \n",
    "#                         coli_first_right), coli_middle_left), coli_middle_right)\n",
    "whole= operations.unite(operations.unite(colilast, col_first), \n",
    "                        coli_middle)\n",
    "whole_first_part = col_first\n",
    "whole_middle_part = coli_middle\n",
    "whole_last_part = colilast\n",
    "\n",
    "\n",
    "first_middle = operations.unite (col_first, coli_middle)\n",
    "middle_last = operations.unite (coli_middle, colilast)\n",
    "\n",
    "\n",
    "# first_left = operations.subtract(whole_first_part, pyr_lateral_right)\n",
    "\n",
    "# first_right = operations.subtract(whole_first_part, pyr_lateral_left)\n",
    "\n",
    "middle_left = operations.subtract(whole_middle_part, pyr_lateral_right_middle)\n",
    "\n",
    "middle_right = operations.subtract(whole_middle_part, pyr_lateral_left_middle)\n",
    "\n",
    "\n",
    "last_left = operations.subtract(whole_last_part, pyr_lateral_right_last)\n",
    "\n",
    "last_right = operations.subtract(whole_last_part, pyr_lateral_left_last)\n",
    "\n",
    "\n",
    "middle_left_last_left = operations.unite( middle_left, last_left)\n",
    "\n",
    "middle_right_last_right = operations.unite(middle_right, last_right)\n",
    "\n",
    "whole_joint = operations.unite(operations.unite(middle_left_last_left, middle_right_last_right), whole_first_part)\n",
    "\n",
    "whole_last_joint = operations.unite(last_left, last_right)\n",
    "\n",
    "whole_middle_joint = operations.unite(middle_left, middle_right)\n",
    "\n",
    "# both=operations.unite(coli_middle, coli2R)\n",
    "# both=operations.unite(operations.unite(operations.unite(coli2, coli3), coli2R), coli3R)\n",
    "\n",
    "\n",
    "file='whole_joint_part_New'\n",
    "filename='%s.xml'%(file)\n",
    "outputfile=os.path.join(savepath, filename)\n",
    "with open (outputfile,'wt') as file_h:\n",
    "    weave(whole_joint,file_h, print_docs = False)\n",
    "    \n",
    "# file='last_right_part_New'\n",
    "# filename='%s.xml'%(file)\n",
    "# outputfile=os.path.join(savepath, filename)\n",
    "# with open (outputfile,'wt') as file_h:\n",
    "#     weave(last_right,file_h, print_docs = False)\n",
    "    \n",
    "# file='whole_last_joint_part_New'\n",
    "# filename='%s.xml'%(file)\n",
    "# outputfile=os.path.join(savepath, filename)\n",
    "# with open (outputfile,'wt') as file_h:\n",
    "#     weave(whole_last_joint,file_h, print_docs = False)\n",
    "\n",
    "# file='middle_left_part_New'\n",
    "# filename='%s.xml'%(file)\n",
    "# outputfile=os.path.join(savepath, filename)\n",
    "# with open (outputfile,'wt') as file_h:\n",
    "#     weave(middle_left,file_h, print_docs = False)\n",
    "    \n",
    "# file='middle_right_part_New'\n",
    "# filename='%s.xml'%(file)\n",
    "# outputfile=os.path.join(savepath, filename)\n",
    "# with open (outputfile,'wt') as file_h:\n",
    "#     weave(middle_right,file_h, print_docs = False)\n",
    "    \n",
    "# file='whole_middle_joint_part_New'\n",
    "# filename='%s.xml'%(file)\n",
    "# outputfile=os.path.join(savepath, filename)\n",
    "# with open (outputfile,'wt') as file_h:\n",
    "#     weave(whole_middle_joint,file_h, print_docs = False)"
   ]
  },
  {
   "cell_type": "code",
   "execution_count": 22,
   "metadata": {
    "collapsed": true
   },
   "outputs": [],
   "source": [
    "p = SCADGen.Parser.Parser(outputfile)\n",
    "p.createSCAD()\n",
    "test = p.rootelems[0]"
   ]
  },
  {
   "cell_type": "code",
   "execution_count": 23,
   "metadata": {
    "collapsed": true
   },
   "outputs": [],
   "source": [
    "cadFile_name='%s.scad'%(file)\n",
    "cad_file_path=os.path.abspath(os.path.join(savepath, cadFile_name))"
   ]
  },
  {
   "cell_type": "code",
   "execution_count": 24,
   "metadata": {},
   "outputs": [
    {
     "data": {
      "text/plain": [
       "'/home/fi0/Collimator_3D/c3dp/figures/whole_joint_part_New.scad'"
      ]
     },
     "execution_count": 24,
     "metadata": {},
     "output_type": "execute_result"
    }
   ],
   "source": [
    "cad_file_path"
   ]
  },
  {
   "cell_type": "code",
   "execution_count": 115,
   "metadata": {
    "collapsed": true
   },
   "outputs": [],
   "source": [
    "# !vglrun openscad {cad_file_path}"
   ]
  },
  {
   "cell_type": "code",
   "execution_count": null,
   "metadata": {
    "collapsed": true
   },
   "outputs": [],
   "source": []
  },
  {
   "cell_type": "code",
   "execution_count": null,
   "metadata": {
    "collapsed": true
   },
   "outputs": [],
   "source": []
  },
  {
   "cell_type": "code",
   "execution_count": null,
   "metadata": {
    "collapsed": true
   },
   "outputs": [],
   "source": []
  }
 ],
 "metadata": {
  "kernelspec": {
   "display_name": "mcvine",
   "language": "python",
   "name": "mcvine"
  },
  "language_info": {
   "codemirror_mode": {
    "name": "ipython",
    "version": 2
   },
   "file_extension": ".py",
   "mimetype": "text/x-python",
   "name": "python",
   "nbconvert_exporter": "python",
   "pygments_lexer": "ipython2",
   "version": "2.7.15"
  }
 },
 "nbformat": 4,
 "nbformat_minor": 2
}
